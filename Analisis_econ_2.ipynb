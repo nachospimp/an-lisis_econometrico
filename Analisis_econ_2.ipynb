{
  "nbformat": 4,
  "nbformat_minor": 0,
  "metadata": {
    "colab": {
      "provenance": []
    },
    "kernelspec": {
      "name": "python3",
      "display_name": "Python 3"
    },
    "language_info": {
      "name": "python"
    }
  },
  "cells": [
    {
      "cell_type": "code",
      "execution_count": null,
      "metadata": {
        "id": "Hzz9zGmRCHvB"
      },
      "outputs": [],
      "source": [
        "X = [10,8,7,8,10,9,10,9]\n",
        "W = [.10,.8,.7,.8,.10,.9,.10,.9]\n",
        "\n",
        "\n",
        "# Media aritmetica\n",
        "suma = 0\n",
        "n = 0\n",
        "'''\n",
        "for i in X:\n",
        "  suma += i\n",
        "  n += 1\n",
        "\n",
        "media_aritmetica = suma / n\n",
        "print(media_aritmetica)\n",
        "'''\n",
        "\n",
        "media_aritmetica = sum(X) / len(X)\n",
        "print(media_aritmetica)\n",
        "\n",
        "# Media ponderada\n",
        "suma_productos = 0\n",
        "suma_pesos = 0\n",
        "\n",
        "for i in range(len(X)):\n",
        "  suma_productos += X[i] * W[i]\n",
        "  suma_pesos += W[i]\n",
        "\n",
        "media_ponderada = suma_productos / suma_pesos\n",
        "print(media_ponderada)\n",
        "\n",
        "'''\n",
        "suma_vp = 0\n",
        "suma_p = 0\n",
        "for i in range(len(X)):\n",
        "  suma_productos += X[i] * W[i]\n",
        "  suma_pesos += W[i]\n",
        "\n",
        "media_ponderada1 = suma_productos / suma_pesos\n",
        "print(media_ponderada1)\n",
        "'''\n",
        "\n",
        "suma_productos1 = 0\n",
        "suma_pesos1 = 0\n",
        "for i,j in zip(X,W):\n",
        "  suma_productos1 += i * j\n",
        "  suma_pesos1 += j\n",
        "\n",
        "media_ponderada2 = suma_productos1 / suma_pesos1\n",
        "print(media_ponderada2)\n",
        "\n",
        "\n",
        "# Media geometrica\n",
        "producto = 1\n",
        "n1 = 0\n",
        "\n",
        "'''\n",
        "for i in X:\n",
        "  producto *= i\n",
        "  n1 += 1\n",
        "\n",
        "media_geometrica = producto ** (1/n1)\n",
        "print(media_geometrica)\n",
        "'''\n",
        "\n",
        "for i in range(len(X)):\n",
        "  producto *= X[i]\n",
        "  n1 += 1\n",
        "\n",
        "media_geometrica = producto ** (1/n1)\n",
        "print(media_geometrica)\n",
        "\n",
        "# Media armonica\n",
        "\n",
        "n2 = 0\n",
        "suma_inversa = 0\n",
        "\n",
        "'''\n",
        "for i in X:\n",
        "  suma_inversa = suma_inversa + (1/i)\n",
        "  n2 = n2 + 1\n",
        "\n",
        "media_armonica = n2 / suma_inversa\n",
        "print(media_armonica)\n",
        "'''\n",
        "\n",
        "for i in range(len(X)):\n",
        "  suma_inversa += (1 / X[i])\n",
        "  n2 += 1\n",
        "\n",
        "media_armonica = n2 / suma_inversa\n",
        "print(media_armonica)\n",
        "\n",
        "# Mediana (datos ordenados)\n",
        "# Ordenar datos\n",
        "'''\n",
        "datos_ordenados = sorted(X)\n",
        "print(datos_ordenados)\n",
        "'''\n",
        "\n",
        "# Mediana (datos ordenados)\n",
        "# Ordenar datos sin sorted()\n",
        "\n",
        "for i in range(len(X)):\n",
        "  for j in range(i+1,len(X)):\n",
        "    if X[i] > X[j]:\n",
        "      X[i],X[j] = X[j],X[i]\n",
        "\n",
        "print(X)"
      ]
    },
    {
      "cell_type": "code",
      "source": [
        "# Mediana (datos ordenados)\n",
        "# Ordenar datos\n",
        "temp = []\n",
        "for i in range(len(X)):\n",
        "  for j in range(i+1,len(X)):\n",
        "    if X[i] > X[j]:\n",
        "      temp = X[i]\n",
        "      X[i] = X[j]\n",
        "      X[j] = temp\n",
        "\n",
        "print(\"metodo sorted:\", sorted(X))\n",
        "\n",
        "# Mediana\n",
        "n = len(X)\n",
        "if n % 2 == 0:\n",
        "  mediana = (X[n//2] + X[n//2 + 1]) / 2\n",
        "else:\n",
        "  mediana = X[n//2]\n",
        "\n",
        "print(mediana)\n",
        "\n",
        "# Moda\n",
        "#moda = max(set(X), key=X.count)\n",
        "#print(moda)\n",
        "\n",
        "frecuencia = {}\n",
        "for i in X:\n",
        "  if i in frecuencia:\n",
        "    frecuencia[i] += 1\n",
        "  else:\n",
        "    frecuencia[i] = 1\n",
        "    print(frecuencia)\n",
        "\n",
        "#moda = max(frecuencia, key=frecuencia.get)\n",
        "max_frecuencia = max(frecuencia.values())\n",
        "\n",
        "#if i == max_frecuencia:\n",
        "#  moda = i\n",
        "moda = [i for i,j in frecuencia.items() if j == max_frecuencia]\n",
        "print(moda)\n",
        "\n"
      ],
      "metadata": {
        "id": "YpBt8C5_w8dC"
      },
      "execution_count": null,
      "outputs": []
    },
    {
      "cell_type": "code",
      "source": [
        "# Lista de comprension\n",
        "\n",
        "# Y = [f(i) for i in range (a) if i condicion]\n",
        "\n",
        "#Y = [i ** 2 for i in range (10) if i % 2 != 0] # if i % 2 == 0 -> Pares\n",
        "\n",
        "Z = []\n",
        "for z in range (10):\n",
        "  if z % 2 != 0:\n",
        "    Z.append(z ** 2)\n",
        "print(Z)\n",
        "\n",
        "#print(Y)\n",
        "\n",
        "max_frecuencia1 = 0\n",
        "modas = []\n",
        "\n",
        "for i in X:\n",
        "  frecuencia1 = 0\n",
        "  for j in X:\n",
        "    if i == j:\n",
        "      frecuencia1 += 1\n",
        "  if frecuencia1 > max_frecuencia1:\n",
        "    max_frecuencia1 = frecuencia1\n",
        "    modas = [i]\n",
        "    #print(max_frecuencia1)\n",
        "    # print(modas)\n",
        "\n",
        "  elif frecuencia1 == max_frecuencia1 and i not in modas:\n",
        "    modas.append(i)\n",
        "\n",
        "#print(max_frecuencia1)\n",
        "print(modas)\n"
      ],
      "metadata": {
        "id": "eomQ6e5y8wrU"
      },
      "execution_count": null,
      "outputs": []
    },
    {
      "cell_type": "code",
      "source": [
        "# Funciones area\n",
        "\n",
        "def _calcular_area(base, altura): # Parametros de la funcion\n",
        "  area = base * altura\n",
        "  return area\n",
        "\n",
        "def _calcular_area_triangulo(base, altura):\n",
        "  area = (base * altura) / 2\n",
        "  return area\n",
        "\n",
        "print(_calcular_area(2,3)) # Argumentos de la funcion\n",
        "print(_calcular_area_triangulo(2,3))"
      ],
      "metadata": {
        "id": "iy85RTLA6Nm9"
      },
      "execution_count": null,
      "outputs": []
    },
    {
      "cell_type": "code",
      "source": [
        "def _calcular_area_2(base,altura):\n",
        "  area =  base * altura\n",
        "  print(\"El area es: \", area)\n",
        "  return area\n",
        "\n",
        "resultado1 = _calcular_area_2(2,3)\n",
        "resultado2 = resultado1 / 2\n",
        "print(resultado2)"
      ],
      "metadata": {
        "id": "mgrgnN7i63LU"
      },
      "execution_count": null,
      "outputs": []
    },
    {
      "cell_type": "code",
      "source": [
        "def _saludar():\n",
        "  print(\"Hola\")\n",
        "\n",
        "_saludar()"
      ],
      "metadata": {
        "id": "AVUfr-278V3Z"
      },
      "execution_count": null,
      "outputs": []
    },
    {
      "cell_type": "code",
      "source": [
        "# Funciones\n",
        "# Media aritmetica\n",
        "\n",
        "def _media_aritmetica(lista):\n",
        "  suma = 0\n",
        "  n = 0\n",
        "  for i in lista:\n",
        "    suma += i\n",
        "    n += 1\n",
        "    # ma = suma / n\n",
        "  return suma / n # ma\n",
        "\n",
        "res1 = _media_aritmetica(X)\n",
        "print(res1)"
      ],
      "metadata": {
        "id": "ojaaIk2x8xBZ"
      },
      "execution_count": null,
      "outputs": []
    },
    {
      "cell_type": "code",
      "source": [
        "# Funciones\n",
        "# Media aritmetica\n",
        "\n",
        "def _media_aritmetica_1(lista):\n",
        "  suma = sum(lista)\n",
        "  n = len(lista)\n",
        "  return suma / n\n",
        "\n",
        "res2 = _media_aritmetica_1(X)\n",
        "print(res2)"
      ],
      "metadata": {
        "id": "5CmFAmVF_5eU"
      },
      "execution_count": null,
      "outputs": []
    },
    {
      "cell_type": "code",
      "source": [
        "# Funciones\n",
        "# Media aritmetica\n",
        "\n",
        "def _media_aritmetica_2(lista):\n",
        "  return sum(lista) / len(lista)\n",
        "\n",
        "print(_media_aritmetica_2(X))"
      ],
      "metadata": {
        "id": "gWNb1iLHAHAy"
      },
      "execution_count": null,
      "outputs": []
    },
    {
      "cell_type": "code",
      "source": [
        "# Funciones\n",
        "# Varianza\n",
        "\n",
        "media = _media_aritmetica_2(X)\n",
        "suma = 0\n",
        "n = 0\n",
        "\n",
        "for i in X:\n",
        "  suma += (i - media) ** 2\n",
        "  n += 1\n",
        "\n",
        "varianza = suma / (n-1)\n",
        "print(varianza)"
      ],
      "metadata": {
        "id": "Xgt-xLZuAm7i"
      },
      "execution_count": null,
      "outputs": []
    },
    {
      "cell_type": "code",
      "source": [
        "def _varianza(lista):\n",
        "  media = _media_aritmetica_2(X) #sum(lista) / len(lista)\n",
        "  suma = 0\n",
        "  n = 0\n",
        "\n",
        "  for i in lista:\n",
        "    suma += (i - media) ** 2\n",
        "    n += 1\n",
        "\n",
        "  varianza = suma / (n-1)\n",
        "  desv_estandar = varianza ** 0.5\n",
        "  return varianza, desv_estandar\n",
        "\n",
        "print(\"Media: \", _media_aritmetica_2(X))\n",
        "print(\"Varianza: \", _varianza(X)[0])\n",
        "print(\"Desviacion estandar: \", _varianza(X)[1])\n"
      ],
      "metadata": {
        "id": "7z5OH7nWBomJ"
      },
      "execution_count": null,
      "outputs": []
    },
    {
      "cell_type": "code",
      "source": [
        "def _estadisticos(lista):\n",
        "  media = sum(lista) / len(lista)\n",
        "  suma = 0\n",
        "  n = 0\n",
        "\n",
        "  for i in lista:\n",
        "    suma += (i - media) ** 2\n",
        "    n += 1\n",
        "\n",
        "  varianza = suma / (n-1)\n",
        "  desv_estandar = varianza ** 0.5\n",
        "  return media, varianza, desv_estandar\n",
        "\n",
        "print(\"Esadisticos: \",_estadisticos(X))\n",
        "print(\"Media: \", _estadisticos(X)[0])\n",
        "print(\"Varianza: \", _estadisticos(X)[1])\n",
        "print(\"Desviacion estandar: \", _estadisticos(X)[2])"
      ],
      "metadata": {
        "id": "_rXZSds4Ekg8"
      },
      "execution_count": null,
      "outputs": []
    },
    {
      "cell_type": "code",
      "source": [
        "# Funciones\n",
        "\n",
        "def sumar0 (param1, param2, param3):\n",
        "  suma = (param1 * param2) / param3\n",
        "  return suma\n",
        "\n",
        "print(sumar0(1,2,4))\n",
        "print(sumar0(33,11,10))\n",
        "\n",
        "def sumar1 (*parametros):\n",
        "  sumar = 0\n",
        "\n",
        "  for i in parametros:\n",
        "    sumar += i\n",
        "  return sumar\n",
        "\n",
        "print(sumar1(1,2,3,4,5,6))\n",
        "\n",
        "def sumar2(a,b,c):\n",
        "  suma = a + b + c\n",
        "  return suma\n",
        "\n",
        "print(sumar2(2,3,4))"
      ],
      "metadata": {
        "id": "SYeO9_TTH5Wx"
      },
      "execution_count": null,
      "outputs": []
    },
    {
      "cell_type": "code",
      "source": [
        "# Funciones anonimas (lambda), map(), filter()\n",
        "# lambda a, b, c: (a+b)/c\n",
        "\n",
        "resultado3 = lambda a, b, c: (a+b)/c\n",
        "print(resultado3(2,3,4))\n",
        "\n",
        "cuadrado = lambda valor: valor ** 2 # Funcion anonima que solo llamare una vez en el codigo\n",
        "print(cuadrado(5))\n",
        "\n",
        "def valor_cuadrado(valor):\n",
        "  return valor ** 2\n",
        "print(valor_cuadrado(5))"
      ],
      "metadata": {
        "id": "caKFV1BZKwll"
      },
      "execution_count": null,
      "outputs": []
    },
    {
      "cell_type": "code",
      "source": [
        "# Funciones anonimas (lambda), map(), filter()\n",
        "# Con filter ()\n",
        "lista1 = [1,2,3,4,5,6,7,8]\n",
        "\n",
        "\n",
        "pares = []\n",
        "for i in lista1:\n",
        "  if i % 2 == 0:\n",
        "    pares.append(i)\n",
        "print(pares)\n",
        "\n",
        "# Opcion alterna con funcion anonima\n",
        "par = list(filter(lambda i: i % 2 != 0 , lista1))\n",
        "print(par)\n",
        "\n",
        "# Funciones anonimas con map()\n",
        "# Con map()\n",
        "par1 = list(map(lambda i: i ** 2, lista1))\n",
        "print(par1)\n",
        "\n",
        "palabras = [\"hola\", \"mundo\", \"soy\", \"universitario\"]\n",
        "\n",
        "mayusculas = []\n",
        "for i in palabras:\n",
        "  mayusculas.append(i.upper())\n",
        "print(mayusculas)\n",
        "\n",
        "\n",
        "# Funciones anonimas con map(regla, objeto)\n",
        "mayusculas1 = map(lambda i: i.upper(), palabras)\n",
        "print(list(mayusculas))\n",
        "\n",
        "# Funciones anonimas con sorted(lista, key=regla)\n",
        "lista2 = [(1,3,3), (2,1,3), (3,2,2), (1,4,5)]\n",
        "\n",
        "ordenada = sorted(lista2, key=lambda i: i[2])\n",
        "print(lista2)\n",
        "print(ordenada)"
      ],
      "metadata": {
        "id": "bAz1K3AcMxUg"
      },
      "execution_count": null,
      "outputs": []
    },
    {
      "cell_type": "code",
      "source": [
        "lista3 = [4,5,6,7,8,9,9]\n",
        "\n",
        "nLista = map(lambda i: i * 3, lista3)\n",
        "print(list(nLista))\n",
        "\n",
        "resultado4 = []\n",
        "for palabra in palabras:\n",
        "  resultado4.append(len(palabra))\n",
        "print(resultado4)\n",
        "\n",
        "resultado5 = list(map(lambda palabra: len(palabra), palabras))\n",
        "print(resultado5)\n",
        "\n",
        "sublista = []\n",
        "for palabra in palabras:\n",
        "  if len(palabra) <= 4:\n",
        "    sublista.append(palabra)\n",
        "\n",
        "print(sublista)\n",
        "\n",
        "sublista1 = filter(lambda palabra: len(palabra) > 4, palabras)\n",
        "print(list(sublista1))"
      ],
      "metadata": {
        "id": "ZBoliNUCTUlD"
      },
      "execution_count": null,
      "outputs": []
    },
    {
      "cell_type": "code",
      "source": [
        "palabras1 = [\"hola\", \"horacio\", \"hortencia\", \"uni\", \"yo\"]\n",
        "\n",
        "total = len(list(filter(lambda i: i[0] == \"h\", palabras1)))\n",
        "print(total)\n",
        "\n",
        "total1 = len(list(filter(lambda i: i[-1] == \"o\", palabras1)))\n",
        "print(total1)"
      ],
      "metadata": {
        "id": "CVHubf3oW8Ke"
      },
      "execution_count": null,
      "outputs": []
    },
    {
      "cell_type": "code",
      "source": [
        "lista4 = [1,2,3,4,5,6,7]\n",
        "\n",
        "Media = sum(lista4) / len(lista4)\n",
        "print(Media)\n",
        "\n",
        "def Media (lista):\n",
        "  return sum(lista) / len(lista)\n",
        "\n",
        "print(Media(lista4))\n",
        "\n",
        "_Media = lambda i: sum(i) / len(i)\n",
        "print(_Media(lista4))"
      ],
      "metadata": {
        "id": "qbzqC9puYeUf"
      },
      "execution_count": null,
      "outputs": []
    },
    {
      "cell_type": "code",
      "source": [
        "# Funcion para filtrar los numeros mayor que uno dado aplicamos transformacion\n",
        "\n",
        "def filtrado_mapeado(numeros, objetivo, potencia):\n",
        "  filtrado = list(filter(lambda i: i > objetivo, numeros))\n",
        "  mapeado = list(map(lambda j: round(j ** potencia,2), filtrado))\n",
        "  return filtrado, mapeado\n",
        "\n",
        "miLista = [1,20,30,15,9,8,-22,55]\n",
        "res = filtrado_mapeado(miLista, 10, 0.5)\n",
        "resultado = filtrado_mapeado(miLista, 10, 0.5)\n",
        "\n",
        "# res = filtrado_mapeado(miLista,20,2)\n",
        "f = filtrado_mapeado(miLista,10,0.5)[0]\n",
        "m = filtrado_mapeado(miLista,50,2/3)[1]\n",
        "\n",
        "\n",
        "print(\"Resultado de la funcion:\", res)\n",
        "print(\"La lista filtrada es:\", resultado[0])\n",
        "print(\"La lista mapeada es:\", resultado[1])\n",
        "\n",
        "print(\"La lista filtrada es:\", f)\n",
        "print(\"La lista mapeada es:\", m)"
      ],
      "metadata": {
        "id": "z9reuNKz27LP"
      },
      "execution_count": null,
      "outputs": []
    },
    {
      "cell_type": "code",
      "source": [
        "# Otra version del promedio ponderado\n",
        "def _pp(valores, pesos):\n",
        "  suma_valores =  sum(map(lambda i: i [0] * i[1], zip(valores, pesos)))\n",
        "  suma_pesos = sum(pesos)\n",
        "  media_ponderada = suma_valores/ suma_pesos\n",
        "  return media_ponderada if suma_valores != 0 else \"No se puede calcular\" # None\n",
        "\n",
        "cal = [5,7,8,9,0,10]\n",
        "pesos = [.2,.3,.1,.1,.1,.2]\n",
        "\n",
        "pp = _pp(cal, pesos)\n",
        "print(pp)\n"
      ],
      "metadata": {
        "id": "oBoWRryM9YQB"
      },
      "execution_count": null,
      "outputs": []
    },
    {
      "cell_type": "code",
      "source": [
        "# Funcion para calcular el area y el perimetro de un circulo\n",
        "def _cap(radio):\n",
        "  pi = 3.1416\n",
        "  area = lambda r: pi * r ** 2\n",
        "  perimetro = lambda r: 2 * pi * r\n",
        "  return {\"Area\": area(radio), \"Perimetro\": perimetro(radio)}\n",
        "\n",
        "print(_cap(1))\n"
      ],
      "metadata": {
        "id": "e6E2dgmGAfeh"
      },
      "execution_count": null,
      "outputs": []
    },
    {
      "cell_type": "code",
      "source": [
        "# Funcion para calcular el area y el perimetro de un circulo\n",
        "def _cap1(radio=None):\n",
        "  radio = int(input(\"Escribe el radio del circulo: \"))\n",
        "  pi = 3.1416\n",
        "  area1 = lambda r: pi * r ** 2\n",
        "  perimetro1 = lambda r: 2 * pi * r\n",
        "  return {\"Area\": area1(radio), \"Perimetro\": perimetro1(radio)}\n",
        "\n",
        "print(_cap1())"
      ],
      "metadata": {
        "id": "zSnhJGueDnzR"
      },
      "execution_count": null,
      "outputs": []
    },
    {
      "cell_type": "code",
      "source": [
        "A = [1,2,3,4,5] # Vector fila\n",
        "B = [6,7,8,9,10]\n",
        "C = [11,12,13,14,15]\n",
        "D = [A,B,C] # Anidacion de objetos\n",
        "\n",
        "print(C)\n",
        "print(C[0])\n",
        "print(D[1][2])\n",
        "print(D[0][2])"
      ],
      "metadata": {
        "id": "OvrJFH9tEhdH"
      },
      "execution_count": null,
      "outputs": []
    },
    {
      "cell_type": "code",
      "source": [
        "E = [1,2,3,4,5] # Vector fila\n",
        "G = [[6],[7],[8],[9],[10]] # Vector columna n filas y una sola columna\n",
        "H = [[1,2],[2,3],[3,4],[4,5]] # 3 filas (listas) y cada lista tiene tres elementos (columnas)\n",
        "\n",
        "print(G)\n",
        "\n",
        "for i in H:\n",
        "  print(i)"
      ],
      "metadata": {
        "id": "KWfbZG19IpLB"
      },
      "execution_count": null,
      "outputs": []
    },
    {
      "cell_type": "code",
      "source": [
        "# Algebra lineal\n",
        "a = [1,2,3] # Lista\n",
        "b = [4,5,6] # Vector fila\n",
        "c = [[7],[8],[9]] # Vector columna\n",
        "\n",
        "d = [a,b,c] # Lista de listas; matriz de 2 filas (listas) y tres columnas (elementos en cada sublista)\n",
        "print(d)"
      ],
      "metadata": {
        "id": "Ie6u0x46K4Z1"
      },
      "execution_count": null,
      "outputs": []
    },
    {
      "cell_type": "code",
      "source": [
        "# Algebra lineal\n",
        "Y = [1,3,2,5,6,7,5,10] # Vector fila\n",
        "XX = [1.5,2.3,5.6,7.8,9.8,6.7,7.3,4,5]\n",
        "ZZ = [2.3,4.5,6.7,8.9,8.7,6.5,5.4,3.4]\n",
        "WW = [2.1,3.4,5.6,7.8,9.0,8.7,9.8,7.8]\n",
        "\n",
        "def lavc(lista):\n",
        "  vector_columna = []\n",
        "  for i in range(len(lista)):\n",
        "    vector_columna.append([lista[i]])\n",
        "  return vector_columna\n",
        "\n",
        "\n",
        "def lavc2(lista):\n",
        "  vector_columna = [[lista[i] for i in range (len(lista))]] # Lista por comprensión\n",
        "  return vector_columna\n",
        "\n",
        "#for i in range(len(Y)):\n",
        "#  matriz.append([Y[i], XX[i], ZZ[i], WW[i]])\n",
        "\n",
        "def lam(*listas):\n",
        "  f = len(listas) # Numero de listas, columnas de la nueva matriz\n",
        "  c = len(listas[0]) # Numero de elmentos en cada lista\n",
        "\n",
        "  matriz = [[listas[i][j] for i in range(f)] for j in range(c)]\n",
        "  return matriz\n",
        "\n",
        "print(lavc(Y))\n",
        "print(lavc2(Y))\n",
        "print(lam(Y))"
      ],
      "metadata": {
        "id": "hao_5pArN9v5"
      },
      "execution_count": null,
      "outputs": []
    },
    {
      "cell_type": "code",
      "source": [
        "X1 = [1,2]\n",
        "Y1 = [3,4]\n",
        "C1 = [1,2]\n",
        "D1 = [4,5]\n",
        "\n",
        "\n",
        "# Convertir las listas en columnas de una matriz\n",
        "def lam(*listas):\n",
        "  \"\"\" n listas a una matriz \"\"\"\n",
        "  filas = len(listas[0])\n",
        "  columnas = len(listas)\n",
        "\n",
        "  matriz = [[listas[j][i] for j in range(columnas)] for i in range(filas)]\n",
        "  return matriz\n",
        "\n",
        "print(lam(X1,Y1))\n",
        "\n",
        "# Mostrar matriz en consola\n",
        "def mmc(matriz):\n",
        "  \"\"\"Mostrar matriz en consola\"\"\"\n",
        "  print(\"La matriz es: \")\n",
        "  for i in matriz:\n",
        "    print(i)\n",
        "\n",
        "def transponer(matriz):\n",
        "  \"\"\" Función para transponer una matriz \"\"\"\n",
        "  filas = len(matriz)\n",
        "  columnas = len(matriz[0])\n",
        "  #print(\"La matriz es :\")\n",
        "  transpuesta = [[0] * filas for i in range(columnas)]\n",
        "\n",
        "  for i in range(filas):\n",
        "    for j in range(columnas):\n",
        "      transpuesta[j][i] = matriz[i][j]\n",
        "\n",
        "  return transpuesta\n",
        "\n",
        "def sumar_matrices(matriz1, matriz2):\n",
        "  filas = len(matriz1)\n",
        "  columnas = len(matriz1[0])\n",
        "\n",
        "  resultado = [[0] * columnas for i in range(filas)]\n",
        "  for i in range(filas):\n",
        "    for j in range(columnas):\n",
        "      resultado[i][j] = matriz1[i][j] + matriz2[i][j]\n",
        "  return resultado\n",
        "\n",
        "def restar_matrices(matriz1, matriz2):\n",
        "  filas = len(matriz1)\n",
        "  columnas = len(matriz1[0])\n",
        "\n",
        "  resultado = [[0] * columnas for i in range(filas)]\n",
        "  for i in range(filas):\n",
        "    for j in range(columnas):\n",
        "      resultado[i][j] = matriz1[i][j] - matriz2[i][j]\n",
        "  return resultado\n",
        "\n",
        "\n",
        "X1 = [1,2]\n",
        "Y1 = [3,4]\n",
        "C1 = [1,2]\n",
        "D1 = [4,5]\n",
        "\n",
        "#mmc(lam(X1,Y1))\n",
        "#M = lam(X1,Y1,C1)\n",
        "#mmc(M)\n",
        "\n",
        "#Mt = transponer(M)\n",
        "#print(\"La matriz transpuesta es\")\n",
        "#mmc(Mt)\n",
        "\n",
        "M1 = lam(X1,Y1,C1)\n",
        "M2 = lam(C1,D1,Y1)\n",
        "mmc(M1)\n",
        "mmc(M2)\n",
        "\n",
        "M3 = sumar_matrices(M1,M2)\n",
        "mmc(M3)\n",
        "\n",
        "M4 = restar_matrices(M1,M2)\n",
        "mmc(M4)"
      ],
      "metadata": {
        "id": "2rHAHeXF643X"
      },
      "execution_count": null,
      "outputs": []
    },
    {
      "cell_type": "code",
      "source": [
        "def sr_matrices(matriz1,matriz2, operacion):\n",
        "  filas = len(matriz1)\n",
        "  columnas = len(matriz1[0])\n",
        "\n",
        "  resultado = [[0] * columnas for i in range(filas)]\n",
        "  for i in range(filas):\n",
        "    for j in range(columnas):\n",
        "      if operacion == \"+\":\n",
        "        resultado[i][j] = matriz1[i][j] + matriz2[i][j]\n",
        "      elif operacion == \"-\":\n",
        "        resultado[i][j] = matriz1[i][j] - matriz2[i][j]\n",
        "      else:\n",
        "        print(\"Operación no válida\")\n",
        "        return None\n",
        "  return resultado\n",
        "\n",
        "M5 = sr_matrices(M1,M2,\"+\")\n",
        "M6 = sr_matrices(M1,M2,\"-\")\n",
        "\n",
        "mmc(M5)\n",
        "mmc(M6)"
      ],
      "metadata": {
        "id": "TXgRKt76JgVw"
      },
      "execution_count": null,
      "outputs": []
    },
    {
      "cell_type": "code",
      "source": [
        "def multiplicar_matrices(A,B):\n",
        "  fA = len(A)\n",
        "  cA = len(A[0])\n",
        "  fB = len(B)\n",
        "  cB = len(B[0])\n",
        "\n",
        "\n",
        "  C = [[0] * cB for i in range (fA)]\n",
        "  for i in range(fA):\n",
        "    for j in range(cB):\n",
        "      for k in range(cA):\n",
        "          C[i][j] += A[i][k] * B[k][j]\n",
        "  return C\n",
        "\n",
        "M7 = [[1,2],[3,4]]\n",
        "M8 = [[5,6],[7,8]]\n",
        "\n",
        "mmc(multiplicar_matrices(M7,M8))"
      ],
      "metadata": {
        "id": "8qWjGmIhLtxZ"
      },
      "execution_count": null,
      "outputs": []
    },
    {
      "cell_type": "code",
      "source": [
        "# Inversa\n",
        "def inversa(matriz):\n",
        "  n = len(matriz)\n",
        "  I = [[1 if i == j else 0 for j in range(n)] for i in range(n)] # Matriz identidad\n",
        "\n",
        "  tabla = [fila + I[i] for i,fila in enumerate(matriz)]\n",
        "\n",
        "  # Gauss-Jordan\n",
        "  for i in range(n):\n",
        "    # Normalizar primer fila\n",
        "    divisor = tabla[i][i]\n",
        "    for j in range(2 * n):\n",
        "      tabla[i][j] /= divisor+\n",
        "    for k in range(n):\n",
        "      if k != i:\n",
        "        pivote = tabla[k][i]\n",
        "        for j in range(2 * n):\n",
        "          tabla[k][j] -= pivote * tabla[i][j]\n",
        "\n",
        "  # Extraer la matriz inversa de la tabla\n",
        "  inversa = [fila[n:] for fila in tabla]\n",
        "  return inversa\n"
      ],
      "metadata": {
        "id": "Y2YQ7ZPYOC2L"
      },
      "execution_count": null,
      "outputs": []
    },
    {
      "cell_type": "code",
      "source": [
        "def ssels(matriz,vector):\n",
        "  inversa_matriz = inversa(matriz)\n",
        "  solucion = multiplicar_matrices(inversa_matriz,vector)\n",
        "  return solucion\n",
        "\n",
        "a1 = [[1,2],[3,4]]\n",
        "b1 = [[1],[2]]\n",
        "\n",
        "print(ssels(a1,b1))\n",
        "\n",
        "\n",
        "# Tarea: estimar el modelo de regresion lineal con las matrices y funciones. Max 28 de noviembre"
      ],
      "metadata": {
        "id": "1-a5RoYTZuZw"
      },
      "execution_count": null,
      "outputs": []
    },
    {
      "cell_type": "code",
      "source": [
        "print(\"123\")"
      ],
      "metadata": {
        "id": "YqxkWvmefIM1"
      },
      "execution_count": null,
      "outputs": []
    },
    {
      "cell_type": "code",
      "source": [
        "# Regresión lineal\n",
        "def regresion_lineal(X, Y):\n",
        "    XT = transponer(X)\n",
        "\n",
        "    XTX = multiplicar_matrices(XT, X)\n",
        "\n",
        "    XTX_inversa = inversa(XTX)\n",
        "\n",
        "    XTY = multiplicar_matrices(XT, Y)\n",
        "\n",
        "    beta = multiplicar_matrices(XTX_inversa, XTY)\n",
        "    return beta"
      ],
      "metadata": {
        "id": "O5E1Gc6pdSXu"
      },
      "execution_count": null,
      "outputs": []
    },
    {
      "cell_type": "code",
      "source": [
        "# Multiplicar matriz por vector\n",
        "def multiplicar_matriz_vector(A, B):\n",
        "    filas = len(A)\n",
        "    columnas = len(A[0])\n",
        "    resultado = [0] * filas\n",
        "    for i in range(filas):\n",
        "        for j in range(columnas):\n",
        "            resultado[i] += A[i][j] * B[j]\n",
        "    return resultado\n",
        "\n",
        "# Regresión lineal\n",
        "def regresion_lineal(X, Y):\n",
        "    XT = transponer(X)\n",
        "\n",
        "    XTX = multiplicar_matrices(XT, X)\n",
        "\n",
        "    XTX_inversa = inversa(XTX)\n",
        "\n",
        "    XTY = multiplicar_matriz_vector(XT, Y)\n",
        "\n",
        "    beta = multiplicar_matriz_vector(XTX_inversa, XTY)\n",
        "    return beta\n",
        "\n",
        "x1 = [[1, 1],\n",
        "     [1, 2],\n",
        "     [1, 3]]\n",
        "\n",
        "y1 = [2, 3, 4]\n",
        "\n",
        "coeficientes = regresion_lineal(x1, y1)\n",
        "\n",
        "# Mostrar los resultados\n",
        "print(f\"Intercepto: {coeficientes[0]}\")\n",
        "print(f\"Pendiente: {coeficientes[1]}\")\n"
      ],
      "metadata": {
        "id": "od3VoupRl3De"
      },
      "execution_count": null,
      "outputs": []
    },
    {
      "cell_type": "code",
      "source": [],
      "metadata": {
        "id": "8zJXXh4jnPE6"
      },
      "execution_count": null,
      "outputs": []
    }
  ]
}