{
  "nbformat": 4,
  "nbformat_minor": 0,
  "metadata": {
    "colab": {
      "provenance": []
    },
    "kernelspec": {
      "name": "python3",
      "display_name": "Python 3"
    },
    "language_info": {
      "name": "python"
    }
  },
  "cells": [
    {
      "cell_type": "markdown",
      "source": [
        "# Curso Análisis Económetrico en Python\n"
      ],
      "metadata": {
        "id": "Mj5N5QhocXdJ"
      }
    },
    {
      "cell_type": "markdown",
      "source": [
        "Clase 1"
      ],
      "metadata": {
        "id": "kRbIATQicZ2t"
      }
    },
    {
      "cell_type": "code",
      "execution_count": null,
      "metadata": {
        "id": "oMLUMsEscVbY",
        "colab": {
          "base_uri": "https://localhost:8080/"
        },
        "outputId": "d59a3d88-742d-4d93-b45c-fa6e3dd74a99"
      },
      "outputs": [
        {
          "output_type": "stream",
          "name": "stdout",
          "text": [
            "Hello World!\n"
          ]
        }
      ],
      "source": [
        "print(\"Hello World!\")"
      ]
    },
    {
      "cell_type": "code",
      "source": [
        "# Comentario"
      ],
      "metadata": {
        "id": "DAeke2vIx46C"
      },
      "execution_count": null,
      "outputs": []
    },
    {
      "cell_type": "code",
      "source": [
        "\"\"\"\n",
        "Curso de Análisis Económetrico\n",
        "Clase 1\n",
        "En Python\n",
        "\"\"\""
      ],
      "metadata": {
        "colab": {
          "base_uri": "https://localhost:8080/",
          "height": 56
        },
        "id": "cLV4nsI1ydgf",
        "outputId": "d723cbc9-6fb2-4d4d-de88-060a2b795833"
      },
      "execution_count": null,
      "outputs": [
        {
          "output_type": "execute_result",
          "data": {
            "text/plain": [
              "'\\nCurso de Análisis Económetrico \\nClase 1\\nEn Python \\n'"
            ],
            "application/vnd.google.colaboratory.intrinsic+json": {
              "type": "string"
            }
          },
          "metadata": {},
          "execution_count": 8
        }
      ]
    },
    {
      "cell_type": "markdown",
      "source": [
        "Variable. Lugar fisico dentro de la pc donde guardaremos cosas. Asignar Valores.\n"
      ],
      "metadata": {
        "id": "g1O-icjczw4m"
      }
    },
    {
      "cell_type": "code",
      "source": [
        "# Nombrar variables\n",
        "# Notación camello para variables\n",
        "\n",
        "miVariable\n",
        "miVariable2\n"
      ],
      "metadata": {
        "colab": {
          "base_uri": "https://localhost:8080/",
          "height": 223
        },
        "id": "IkZOFY7Oz-Pz",
        "outputId": "3b36286c-dcac-4c98-ec36-b6f9956dc125"
      },
      "execution_count": null,
      "outputs": [
        {
          "output_type": "error",
          "ename": "NameError",
          "evalue": "name 'miVariable' is not defined",
          "traceback": [
            "\u001b[0;31m---------------------------------------------------------------------------\u001b[0m",
            "\u001b[0;31mNameError\u001b[0m                                 Traceback (most recent call last)",
            "\u001b[0;32m<ipython-input-20-fef0ffdee463>\u001b[0m in \u001b[0;36m<cell line: 4>\u001b[0;34m()\u001b[0m\n\u001b[1;32m      2\u001b[0m \u001b[0;31m# Notación camello para variables\u001b[0m\u001b[0;34m\u001b[0m\u001b[0;34m\u001b[0m\u001b[0m\n\u001b[1;32m      3\u001b[0m \u001b[0;34m\u001b[0m\u001b[0m\n\u001b[0;32m----> 4\u001b[0;31m \u001b[0mmiVariable\u001b[0m\u001b[0;34m\u001b[0m\u001b[0;34m\u001b[0m\u001b[0m\n\u001b[0m\u001b[1;32m      5\u001b[0m \u001b[0mmiVariable2\u001b[0m\u001b[0;34m\u001b[0m\u001b[0;34m\u001b[0m\u001b[0m\n",
            "\u001b[0;31mNameError\u001b[0m: name 'miVariable' is not defined"
          ]
        }
      ]
    },
    {
      "cell_type": "code",
      "source": [
        "# Notación Pascal\n",
        "\n",
        "MiVariable\n",
        "MiVariable2\n",
        "\n"
      ],
      "metadata": {
        "id": "yplgVVWG0hKp"
      },
      "execution_count": null,
      "outputs": []
    },
    {
      "cell_type": "code",
      "source": [
        "# Notación Serpiente (funciones)\n",
        "\n",
        "_mi_variable\n",
        "_mi_otra_variable"
      ],
      "metadata": {
        "id": "8hzeHdgd0ts6"
      },
      "execution_count": null,
      "outputs": []
    },
    {
      "cell_type": "markdown",
      "source": [
        "35 Palabras clave en Python"
      ],
      "metadata": {
        "id": "L-opYNji1qJ4"
      }
    },
    {
      "cell_type": "code",
      "source": [
        "# Valores Primitivos\n",
        "# Cadenas, Enteros, Flotantes, Booleanos, Vacío\n",
        "# Mutabilidad e Inmutabilidad\n",
        "# Todos los valores primitivos son inmutables\n",
        "# Cadena de caracteres ordenados: str, inmutables, iterables\n",
        "# Declarar cadenas\n",
        "\"Hola, mundo.\"\n"
      ],
      "metadata": {
        "colab": {
          "base_uri": "https://localhost:8080/",
          "height": 56
        },
        "id": "0Q-MdZ5I1uFJ",
        "outputId": "359cc985-9329-4fe1-8baa-57d0d99ba863"
      },
      "execution_count": null,
      "outputs": [
        {
          "output_type": "execute_result",
          "data": {
            "text/plain": [
              "'Hola, mundo.'"
            ],
            "application/vnd.google.colaboratory.intrinsic+json": {
              "type": "string"
            }
          },
          "metadata": {},
          "execution_count": 13
        }
      ]
    },
    {
      "cell_type": "code",
      "source": [
        "'Hola, mundo!'"
      ],
      "metadata": {
        "colab": {
          "base_uri": "https://localhost:8080/",
          "height": 56
        },
        "id": "kQvE-UiM4Cl2",
        "outputId": "78842851-53ba-4e18-e122-3933590a0978"
      },
      "execution_count": null,
      "outputs": [
        {
          "output_type": "execute_result",
          "data": {
            "text/plain": [
              "'Hola, mundo!'"
            ],
            "application/vnd.google.colaboratory.intrinsic+json": {
              "type": "string"
            }
          },
          "metadata": {},
          "execution_count": 12
        }
      ]
    },
    {
      "cell_type": "code",
      "source": [
        "'''\n",
        "Hola, mundo!\n",
        "'''"
      ],
      "metadata": {
        "colab": {
          "base_uri": "https://localhost:8080/",
          "height": 56
        },
        "id": "Y-6QMIeu4Mag",
        "outputId": "54ae0063-0344-4610-cad5-81ac4dcf3e3c"
      },
      "execution_count": null,
      "outputs": [
        {
          "output_type": "execute_result",
          "data": {
            "text/plain": [
              "'\\nHola, mundo!\\n'"
            ],
            "application/vnd.google.colaboratory.intrinsic+json": {
              "type": "string"
            }
          },
          "metadata": {},
          "execution_count": 14
        }
      ]
    },
    {
      "cell_type": "code",
      "source": [
        "# Valores Primitivos\n",
        "# Asignación de Variables\n",
        "# Cadena de caracteres ordenados: str, inmutables, iterables\n",
        "miCadena = \"Hola, mundo!\"\n",
        "X = 'Esta es otra cadena'"
      ],
      "metadata": {
        "id": "cKikRgUL4wH1"
      },
      "execution_count": null,
      "outputs": []
    },
    {
      "cell_type": "code",
      "source": [
        "# Valores primitivos\n",
        "# Enteros, int, inmutables, no son iterables\n",
        "miEntero = -23"
      ],
      "metadata": {
        "id": "AKeI4Fpp5VRe"
      },
      "execution_count": null,
      "outputs": []
    },
    {
      "cell_type": "code",
      "source": [
        "# Valores primitivos\n",
        "# Flotantes, float, inmutables, no son iterables\n",
        "miFlotante = 3.14598"
      ],
      "metadata": {
        "id": "_BaVyJ3H6APj"
      },
      "execution_count": null,
      "outputs": []
    },
    {
      "cell_type": "code",
      "source": [
        "# Valores primitivos\n",
        "# Booleanos, bool, inmutables, no son iterables\n",
        "True\n",
        "False\n",
        "miBool1 = True # 1\n",
        "miBool2 = False # 0"
      ],
      "metadata": {
        "id": "vsR4GV2k6l_T"
      },
      "execution_count": null,
      "outputs": []
    },
    {
      "cell_type": "code",
      "source": [
        "# Valores primitivos\n",
        "# Ninguno, None, inmutable, no iterable\n",
        "None\n",
        "miVariable = None"
      ],
      "metadata": {
        "id": "qWPU7Sk67V9i"
      },
      "execution_count": null,
      "outputs": []
    },
    {
      "cell_type": "code",
      "source": [
        "# Variables son mutables\n",
        "# Python lenguaje dinamico\n",
        "miInt = 10\n",
        "miFloat = 8.5\n",
        "\n",
        "miVariable = miInt\n",
        "miOtraVariable = miVariable"
      ],
      "metadata": {
        "id": "WX0z51zV8DVW"
      },
      "execution_count": null,
      "outputs": []
    },
    {
      "cell_type": "code",
      "source": [
        "# Asignación Múltiple\n",
        "x = 1\n",
        "y = 2\n",
        "z = 3\n",
        "\n",
        "x, y, z = 1, 2, 3\n",
        "\n",
        "miVar1, miVar2 = \"Hola\", 1.2"
      ],
      "metadata": {
        "id": "cb0VXSSh9T0w"
      },
      "execution_count": null,
      "outputs": []
    },
    {
      "cell_type": "code",
      "source": [
        "# Operaciones con valores primitivos # Cubiculo 116 edif. b, estadistica descriptiva, econometria, algebra lineal.\n",
        "# Operaciones con cadena\n",
        "miVar1 = \"Hola\"\n",
        "miVar2 = \"Mundo\"\n",
        "\n",
        "# Metodos de salida (funciones)\n",
        "print(miVar1,miVar2)\n",
        "print(\"Hola, mundo\")"
      ],
      "metadata": {
        "id": "MhMGKTNc--px",
        "colab": {
          "base_uri": "https://localhost:8080/"
        },
        "outputId": "792d02dc-18b4-4bbd-99b4-9eb62d37b32a"
      },
      "execution_count": null,
      "outputs": [
        {
          "output_type": "stream",
          "name": "stdout",
          "text": [
            "Hola Mundo\n",
            "Hola, mundo\n"
          ]
        }
      ]
    },
    {
      "cell_type": "code",
      "source": [
        "# Metodo de entrada (input)\n",
        "nombre = input(\"Ingresa tu nombre: \") # Prompt\n",
        "print(\"Hola tu nombre es\", nombre)"
      ],
      "metadata": {
        "colab": {
          "base_uri": "https://localhost:8080/"
        },
        "id": "VkUYW3Dgh4Gx",
        "outputId": "96dc80b1-6bce-4d6d-cb8c-6de27a39f25e"
      },
      "execution_count": null,
      "outputs": [
        {
          "output_type": "stream",
          "name": "stdout",
          "text": [
            "Ingresa tu nombre: alberto\n",
            "Hola tu nombre es alberto\n"
          ]
        }
      ]
    },
    {
      "cell_type": "code",
      "source": [
        "# Operaciones con cadenas\n",
        "miVar1 = \"Hola\"\n",
        "miVar2 = \"Mundo\"\n",
        "\n",
        "# Concatenar + (unir cadenas)\n",
        "resultado = miVar1 + miVar2\n",
        "print(resultado)\n",
        "print(miVar1 + \". Eres mi\" + miVar2)"
      ],
      "metadata": {
        "colab": {
          "base_uri": "https://localhost:8080/"
        },
        "id": "0r0v0ajXjIuh",
        "outputId": "67ebd117-91e4-48b9-d6e6-e9605d057a7d"
      },
      "execution_count": null,
      "outputs": [
        {
          "output_type": "stream",
          "name": "stdout",
          "text": [
            "HolaMundo\n",
            "Hola. Eres miMundo\n"
          ]
        }
      ]
    },
    {
      "cell_type": "code",
      "source": [
        "# Operaciones con cadenas\n",
        "# Repetir *\n",
        "\n",
        "resultado = miVar2 * 5\n",
        "print(resultado)\n",
        "\n",
        "resultado1 = 5 * \"SUPER\"\n",
        "print(resultado1 + \"YEAH!\")"
      ],
      "metadata": {
        "colab": {
          "base_uri": "https://localhost:8080/"
        },
        "id": "A7nCMRcDkKjQ",
        "outputId": "76429942-e018-4c3e-b834-fd2749715c45"
      },
      "execution_count": null,
      "outputs": [
        {
          "output_type": "stream",
          "name": "stdout",
          "text": [
            "MundoMundoMundoMundoMundo\n",
            "SUPERSUPERSUPERSUPERSUPERYEAH!\n"
          ]
        }
      ]
    },
    {
      "cell_type": "code",
      "source": [
        "# Operaciones con cadenas\n",
        "# Indexar [] Extraer un caracter de una cadena\n",
        "resultado2 = miVar2[-5]\n",
        "print(resultado2)\n",
        "print(miVar2[0])"
      ],
      "metadata": {
        "colab": {
          "base_uri": "https://localhost:8080/"
        },
        "id": "I6DYaxbTk-pS",
        "outputId": "01ae5afa-3518-4d76-ef19-aa065ba94403"
      },
      "execution_count": null,
      "outputs": [
        {
          "output_type": "stream",
          "name": "stdout",
          "text": [
            "M\n",
            "M\n"
          ]
        }
      ]
    },
    {
      "cell_type": "code",
      "source": [
        "# Operaciones con cadenas\n",
        "# Rebanar (slicing) [a:b-1] Acceder a una subcadena de una cadena a traves de un rango\n",
        "miVar3 = \"Hola. Mundo\"\n",
        "resultado4 = miVar3[2:7]\n",
        "print(resultado4)"
      ],
      "metadata": {
        "colab": {
          "base_uri": "https://localhost:8080/"
        },
        "id": "nbR81XfHmZsD",
        "outputId": "42eec650-cd35-4405-c977-1c64c39fe192"
      },
      "execution_count": null,
      "outputs": [
        {
          "output_type": "stream",
          "name": "stdout",
          "text": [
            "la. M\n"
          ]
        }
      ]
    },
    {
      "cell_type": "code",
      "source": [
        "# Verificar in\n",
        "resultado5 = \"hola\" in miVar3\n",
        "print(resultado5)"
      ],
      "metadata": {
        "colab": {
          "base_uri": "https://localhost:8080/"
        },
        "id": "Ti7xXrdCnvxS",
        "outputId": "77f91964-aee6-4790-83fb-12039cd84a53"
      },
      "execution_count": null,
      "outputs": [
        {
          "output_type": "stream",
          "name": "stdout",
          "text": [
            "False\n"
          ]
        }
      ]
    },
    {
      "cell_type": "code",
      "source": [
        "# Operaciones con vslores primitivos numericos\n",
        "\n",
        "# Suma +\n",
        "miVar4 = 1\n",
        "miVar5 = 2.5\n",
        "\n",
        "resultado6 = miVar4 + miVar5\n",
        "print(\"El resultado es:\", resultado6)\n",
        "\n",
        "# Resta\n",
        "resultado7 = miVar4 - miVar5\n",
        "print(\"El resultado es:\", resultado7)\n",
        "\n",
        "# Multiplicación\n",
        "resultado8 = miVar4 * miVar5\n",
        "print(\"El resultado es:\", resultado8)\n",
        "\n",
        "# Division\n",
        "resultado9 = miVar4 / miVar5\n",
        "print(\"El resultado es: \", resultado9) # resultado es flotante\n",
        "\n",
        "# Division entera\n",
        "resultado10= miVar4 // miVar5\n",
        "print(\"El resultado es: \", resultado10)\n",
        "\n",
        "# Division módulo %\n",
        "resultado11 = miVar4 % miVar5\n",
        "print(\"El resultado es: \", resultado11)\n",
        "\n",
        "# Exponenciacion ** enteros o decimales\n",
        "resultado12 = miVar4 ** 5\n",
        "print(\"El resultado es: \", resultado12)\n"
      ],
      "metadata": {
        "colab": {
          "base_uri": "https://localhost:8080/"
        },
        "id": "Fq1q7IDSo7O_",
        "outputId": "a5d7f61a-f7c8-444a-ae91-df7115127471"
      },
      "execution_count": null,
      "outputs": [
        {
          "output_type": "stream",
          "name": "stdout",
          "text": [
            "El resultado es: 3.5\n",
            "El resultado es: -1.5\n",
            "El resultado es: 2.5\n",
            "El resultado es:  0.4\n",
            "El resultado es:  0.0\n",
            "El resultado es:  1.0\n",
            "El resultado es:  1\n"
          ]
        }
      ]
    },
    {
      "cell_type": "code",
      "source": [
        "# Operaciones con booleanos\n",
        "miVar6 = True\n",
        "miVar7 = False\n",
        "\n",
        "# Conjunción y (and)\n",
        "resultado13 = miVar6 and miVar7\n",
        "print(resultado13)\n",
        "\n",
        "# Disyunción or\n",
        "resultado14 = miVar6 or miVar7\n",
        "print(resultado14)\n",
        "\n",
        "# Negación not convierte un flaso en verdadero y viceversa\n",
        "resultado15 = not miVar6\n",
        "print(resultado15)\n"
      ],
      "metadata": {
        "colab": {
          "base_uri": "https://localhost:8080/"
        },
        "id": "aVKx05Nrsl7f",
        "outputId": "2e355dfe-617f-416b-8666-9a4ba98c614a"
      },
      "execution_count": null,
      "outputs": [
        {
          "output_type": "stream",
          "name": "stdout",
          "text": [
            "False\n",
            "True\n",
            "False\n"
          ]
        }
      ]
    },
    {
      "cell_type": "code",
      "source": [
        "# Operación de comparación\n",
        "# Igual que ==\n",
        "miVar8 = 10\n",
        "miVar9 = 12\n",
        "resultado16 = miVar8 == miVar9\n",
        "print(resultado16)\n",
        "\n",
        "# Distinto de !=\n",
        "resultado17 = miVar8 != miVar9\n",
        "print(resultado17)\n",
        "\n",
        "# Mayor que >\n",
        "resultado18 = miVar8 > miVar9\n",
        "print(resultado18)\n",
        "\n",
        "# Menor que <\n",
        "resultado19 = miVar8 < miVar9\n",
        "print(resultado19)\n",
        "\n",
        "# Mayor o igual que >=\n",
        "resultado20 = miVar8 >= miVar9\n",
        "print(resultado20)\n",
        "\n",
        "# Mneor o igual que <=\n",
        "resultado21 = miVar8 <= miVar9\n",
        "print(resultado21)"
      ],
      "metadata": {
        "colab": {
          "base_uri": "https://localhost:8080/"
        },
        "id": "56JkD_WDx3pI",
        "outputId": "6c2ac8e2-0d3b-4df6-ce49-f4a0cf074683"
      },
      "execution_count": null,
      "outputs": [
        {
          "output_type": "stream",
          "name": "stdout",
          "text": [
            "False\n",
            "True\n",
            "False\n",
            "True\n",
            "False\n",
            "True\n"
          ]
        }
      ]
    },
    {
      "cell_type": "code",
      "source": [
        "# type() # tipo\n",
        "\n",
        "var3 = None\n",
        "var5 = True\n",
        "\n",
        "print(var3, \"es de tipo: \", type(var3))\n",
        "print(var5, \"es de tipo: \", type(var5))\n"
      ],
      "metadata": {
        "colab": {
          "base_uri": "https://localhost:8080/"
        },
        "id": "jQLac7g8y8SP",
        "outputId": "16e5d138-3658-46ea-c8d0-16621a0fa426"
      },
      "execution_count": null,
      "outputs": [
        {
          "output_type": "stream",
          "name": "stdout",
          "text": [
            "None es de tipo:  <class 'NoneType'>\n",
            "True es de tipo:  <class 'bool'>\n"
          ]
        }
      ]
    },
    {
      "cell_type": "code",
      "source": [
        "# Estructurar los valores primitivos\n",
        "# Clases Fundamentales (listas, tupas, diccionarios, conjuntos)\n",
        "# Lista, tipo: list (secuencia de elementos ordenados). Las listas son mutables e iterables, ordenadas.  []\n",
        "var3 = [1, 2, 3, True, None] # Lista\n",
        "\n",
        "print(var3)\n",
        "print(type(var3)) # Mutable significa que podemos quitarle valores o agregarle\n",
        "# Indices para los elementos de la lista ej. indice 0 = 1 en var3\n",
        "\n",
        "var4 = [1,3,4,5]\n",
        "var5 = [1.2,1.3,1.4]\n",
        "var6 = [var3, var4, var5] # Lista mixta\n",
        "\n",
        "print(var6)"
      ],
      "metadata": {
        "colab": {
          "base_uri": "https://localhost:8080/"
        },
        "id": "ULp8lAdn44JU",
        "outputId": "7f8d3d10-9a4b-4643-ef32-59d6395b8201"
      },
      "execution_count": null,
      "outputs": [
        {
          "output_type": "stream",
          "name": "stdout",
          "text": [
            "[1, 2, 3, True, None]\n",
            "<class 'list'>\n",
            "[[1, 2, 3, True, None], [1, 3, 4, 5], [1.2, 1.3, 1.4]]\n"
          ]
        }
      ]
    },
    {
      "cell_type": "code",
      "source": [
        "# Clases Fundamentales (listas, tupas, diccionarios, conjuntos)\n",
        "# Tuplas, tipo: tuple, () Secuencias de elmentos ordenados. Son inmutables pero iterables. objetos de elementos secuenciados\n",
        "# No se pueden modificar, agregar o quitar elementos\n",
        "var7 = (2,4,5,6)\n",
        "\n",
        "print(type(var7))\n",
        "print(var7)"
      ],
      "metadata": {
        "colab": {
          "base_uri": "https://localhost:8080/"
        },
        "id": "pRvWKjPL8CHN",
        "outputId": "19d5a2e0-192e-4e49-ec0e-2165ae9fed1f"
      },
      "execution_count": null,
      "outputs": [
        {
          "output_type": "stream",
          "name": "stdout",
          "text": [
            "<class 'tuple'>\n",
            "(2, 4, 5, 6)\n"
          ]
        }
      ]
    },
    {
      "cell_type": "code",
      "source": [
        "# Clases Fundamentales (listas, tupas, diccionarios, conjuntos)\n",
        "# Conjuntos, type: set. Colecciones de elemantos únicos no ordenados. Mutables e iterables. {}\n",
        "# Secuencia de elementos/valores\n",
        "# No puede haber elementos del mismo valor\n",
        "# Los conjuntos no tienen indice.\n",
        "\n",
        "var8 = {0,2,3,4,5,5,2, \"HOLA\", True} # 1 = True, 0 = False\n",
        "print(type(var8))\n",
        "print(var8)"
      ],
      "metadata": {
        "colab": {
          "base_uri": "https://localhost:8080/"
        },
        "id": "JiO7ygZl-N1z",
        "outputId": "1911029b-6d59-4152-cc24-8d616ba1e87a"
      },
      "execution_count": null,
      "outputs": [
        {
          "output_type": "stream",
          "name": "stdout",
          "text": [
            "<class 'set'>\n",
            "{0, True, 2, 3, 4, 5, 'HOLA'}\n"
          ]
        }
      ]
    },
    {
      "cell_type": "code",
      "source": [
        "# Clases Fundamentales (listas, tupas, diccionarios, conjuntos)\n",
        "# diccionario, type: dict, {}. estructura única. No admite repetidos\n",
        "# n elementos. Los elementos estan conformados por otros dos elementos, clave y valor\n",
        "# {clave1:valor1, clave2:valor2,... }\n",
        "miVar10 = {\"Nombre\":\"Jésus\", \"Edad\":33, \"Sexo\":\"Maculino\", \"Hijos\":[\"Ramón\", \"Romario\"]}\n",
        "\n",
        "print(type(miVar10))\n",
        "print(miVar10)"
      ],
      "metadata": {
        "colab": {
          "base_uri": "https://localhost:8080/"
        },
        "id": "fO0buGZF_8S5",
        "outputId": "6c9aa903-7eac-4759-fda0-c39e5ea4f070"
      },
      "execution_count": null,
      "outputs": [
        {
          "output_type": "stream",
          "name": "stdout",
          "text": [
            "<class 'dict'>\n",
            "{'Nombre': 'Jésus', 'Edad': 33, 'Sexo': 'Maculino', 'Hijos': ['Ramón', 'Romario']}\n"
          ]
        }
      ]
    },
    {
      "cell_type": "code",
      "source": [
        "# operaciones con listas. mutables\n",
        "\n",
        "miVar11 = [1, 2.5, \"Hola\", True, None]\n",
        "miVar12 = [2, 4.6, \"Adios\", False]\n",
        "\n",
        "# Concatenar +\n",
        "miVar13 = miVar11 + miVar12\n",
        "print(miVar13)\n",
        "print(type(miVar13))\n",
        "\n",
        "# Repetir *\n",
        "miVar14 = 3 * miVar11\n",
        "print(miVar14)\n",
        "print(type(miVar14))\n",
        "\n",
        "# Indexar []\n",
        "miVar15 = miVar11[2]\n",
        "print(miVar15)\n",
        "print(type(miVar15))\n",
        "\n",
        "# Rebanar [a:b-1:c]\n",
        "miVar16 = miVar11[1:5:2]\n",
        "print(miVar16)\n",
        "print(type(miVar16))\n",
        "\n",
        "# Modificar [a]= b\n",
        "miVar11[2] = 3.14\n",
        "print(miVar11)\n",
        "print(type(miVar16))\n",
        "\n",
        "# Verificar in\n",
        "resultado1 = \"Hola\" in miVar11\n",
        "print(resultado1)\n",
        "print(type(miVar16))"
      ],
      "metadata": {
        "colab": {
          "base_uri": "https://localhost:8080/"
        },
        "id": "Nv8HLhrpj1jl",
        "outputId": "ea301bc5-86c3-477a-fc0d-e128afa0454a"
      },
      "execution_count": null,
      "outputs": [
        {
          "output_type": "stream",
          "name": "stdout",
          "text": [
            "[1, 2.5, 'Hola', True, None, 2, 4.6, 'Adios', False]\n",
            "<class 'list'>\n",
            "[1, 2.5, 'Hola', True, None, 1, 2.5, 'Hola', True, None, 1, 2.5, 'Hola', True, None]\n",
            "<class 'list'>\n",
            "Hola\n",
            "<class 'str'>\n",
            "[2.5, True]\n",
            "<class 'list'>\n",
            "[1, 2.5, 3.14, True, None]\n",
            "<class 'list'>\n",
            "False\n",
            "<class 'list'>\n"
          ]
        }
      ]
    },
    {
      "cell_type": "code",
      "source": [
        "# Operaciones con tuplas ()\n",
        "\n",
        "miVar15 = (1, 2.5, \"Hola\", True, None)\n",
        "miVar16 = (2, 4.6, \"Adios\", False)\n",
        "\n",
        "resultado2 = miVar15 + miVar16\n",
        "print(resultado2)\n",
        "\n",
        "# Repetir *\n",
        "resultado3 = 3 * miVar15\n",
        "print(resultado3)\n",
        "\n",
        "# Indexar\n",
        "resultado4 = miVar15[1]\n",
        "print(resultado4)\n",
        "\n",
        "# Rebanar\n",
        "resultado5 = miVar15[1:3:2]\n",
        "print(resultado5)\n",
        "\n",
        "# verififcar in\n",
        "resultado6 = False in miVar15\n",
        "print(resultado6)"
      ],
      "metadata": {
        "colab": {
          "base_uri": "https://localhost:8080/"
        },
        "id": "1PvNjwsMpRbG",
        "outputId": "593a268a-ae37-48bc-c333-891a8f743add"
      },
      "execution_count": null,
      "outputs": [
        {
          "output_type": "stream",
          "name": "stdout",
          "text": [
            "(1, 2.5, 'Hola', True, None, 2, 4.6, 'Adios', False)\n",
            "(1, 2.5, 'Hola', True, None, 1, 2.5, 'Hola', True, None, 1, 2.5, 'Hola', True, None)\n",
            "2.5\n",
            "(2.5,)\n",
            "False\n"
          ]
        }
      ]
    },
    {
      "cell_type": "code",
      "source": [
        "# Operaciones con conjuntos. mutables e iterables\n",
        "\n",
        "miVar17 = {1, 2.5, \"Hola\", True, None}\n",
        "miVar18 = {2, 4.6, \"Adios\", False}\n",
        "\n",
        "# Verificar in\n",
        "resultado7 = 0 in miVar17\n",
        "print(resultado7)"
      ],
      "metadata": {
        "colab": {
          "base_uri": "https://localhost:8080/"
        },
        "id": "FSoMMSn6rM7O",
        "outputId": "4a6c2f51-f0e4-4fdb-dd41-61d67bf453be"
      },
      "execution_count": null,
      "outputs": [
        {
          "output_type": "stream",
          "name": "stdout",
          "text": [
            "False\n"
          ]
        }
      ]
    },
    {
      "cell_type": "code",
      "source": [
        "# Operaciones con diccionarios\n",
        "\n",
        "miVar19 = {\"Nombre\":\"Jesus\", \"Edad\":2.5, \"Hijos\":False, \"Casado\":[1,2,3,[0,5,6]]}\n",
        "\n",
        "# Modificar\n",
        "miVar19[\"Hijos\"] = True\n",
        "miVar19[\"Nombre\"] = \"Chucho\"\n",
        "\n",
        "miVar19[\"Casado\"][0] = 20\n",
        "\n",
        "#miVar19[\"Casado\"][0][2] = 100\n",
        "\n",
        "print(miVar19)\n",
        "\n",
        "# Modificar in\n",
        "resultado8 = \"Hijos\" in miVar19\n",
        "print(resultado8)"
      ],
      "metadata": {
        "colab": {
          "base_uri": "https://localhost:8080/"
        },
        "id": "S4ra9j2ir0FY",
        "outputId": "3eca7147-24e7-417b-a2f6-3ebeeec065e8"
      },
      "execution_count": null,
      "outputs": [
        {
          "output_type": "stream",
          "name": "stdout",
          "text": [
            "{'Nombre': 'Chucho', 'Edad': 2.5, 'Hijos': True, 'Casado': [20, 2, 3, [0, 5, 6]]}\n",
            "True\n"
          ]
        }
      ]
    },
    {
      "cell_type": "code",
      "source": [
        "# metodoss generales\n",
        "# Entrada y Salida\n",
        "\n",
        "print(1,2,5+2, 4*[1,2], sep=\"---\") # sep(separador), tabulador\n",
        "print(1,2,5+2, 4*[1,2], sep=\"\\n\") # sep(separador), tabulador\n",
        "print(1,2,5+2, 4*[1,2], sep=\" \") # sep(separador), tabulador\n",
        "print(1,2,5+2, 4*[1,2], end=\"\\t****\\n\") # end(separador), tabulador\n",
        "print(1,8,9)\n"
      ],
      "metadata": {
        "colab": {
          "base_uri": "https://localhost:8080/"
        },
        "id": "B8jDnJ3SwOsg",
        "outputId": "cae8a7d8-05ea-4330-f7d9-9196c2a5bf52"
      },
      "execution_count": null,
      "outputs": [
        {
          "output_type": "stream",
          "name": "stdout",
          "text": [
            "1---2---7---[1, 2, 1, 2, 1, 2, 1, 2]\n",
            "1\n",
            "2\n",
            "7\n",
            "[1, 2, 1, 2, 1, 2, 1, 2]\n",
            "1 2 7 [1, 2, 1, 2, 1, 2, 1, 2]\n",
            "1 2 7 [1, 2, 1, 2, 1, 2, 1, 2]\t****\n",
            "1 8 9\n"
          ]
        }
      ]
    },
    {
      "cell_type": "code",
      "source": [
        "# Metodod de entrada y salida\n",
        "nombre = input(\"Escribe tu nombre: \")\n",
        "print(\"Tu nombre es:\",nombre)"
      ],
      "metadata": {
        "colab": {
          "base_uri": "https://localhost:8080/"
        },
        "id": "UoXLXscN0YWC",
        "outputId": "486a1b95-05db-4db4-fdec-89a49d0f076e"
      },
      "execution_count": null,
      "outputs": [
        {
          "output_type": "stream",
          "name": "stdout",
          "text": [
            "Escribe tu nombre: Mario\n",
            "Tu nombre es: Mario\n"
          ]
        }
      ]
    },
    {
      "cell_type": "code",
      "source": [
        "# Métodos integrados. objetos y variables.\n",
        "# Métodos de conversión, int(), float(), bool(), str()\n",
        "\n",
        "miVar20 = 1\n",
        "miVar20 = str(miVar20)\n",
        "print(type(miVar20))\n",
        "print(miVar20)\n",
        "\n",
        "nombre1 = int(input(\"Escribe un número: \"))\n",
        "print(\"Tu número es:\",nombre1)\n",
        "print(type(nombre1))\n",
        "\n",
        "suma = nombre1 + 10\n",
        "print(\"El total es \" + str(suma))\n",
        "print(type(suma))"
      ],
      "metadata": {
        "colab": {
          "base_uri": "https://localhost:8080/"
        },
        "id": "OE9YVCE21mMy",
        "outputId": "3be4272e-959e-4c20-bc54-8077d9bac026"
      },
      "execution_count": null,
      "outputs": [
        {
          "output_type": "stream",
          "name": "stdout",
          "text": [
            "<class 'str'>\n",
            "1\n",
            "Escribe un número: 66\n",
            "Tu número es: 66\n",
            "<class 'int'>\n",
            "El total es 76\n",
            "<class 'int'>\n"
          ]
        }
      ]
    },
    {
      "cell_type": "code",
      "source": [
        "# Métodos integrados. objetos y variables. type(), id(), len(), zip()\n",
        "# Métodos de conversión, tuple(), list[], set(), dict()\n",
        "\n",
        "miVar21 = [1, 2.3, 5, 6.7, 8]\n",
        "miVar21 = tuple(miVar21)\n",
        "\n",
        "print(miVar21)\n",
        "print(type(miVar21))\n",
        "\n",
        "miVar22 = (1, 2.3, 5, 6.7, 8)\n",
        "miVar22 = list(miVar22)\n",
        "\n",
        "print(miVar22)\n",
        "print(type(miVar22))\n",
        "\n",
        "\n",
        "miVar23 = (1, 2.3, 5, 6.7, 8)\n",
        "miVar23 = set(miVar23)\n",
        "\n",
        "print(miVar23)\n",
        "print(type(miVar23))\n",
        "\n",
        "miVar24 = dict(Nombre=\"Jesus\", Edad=25, Hijos=True)\n",
        "print(miVar24)\n",
        "print(type(miVar24))\n",
        "\n",
        "miVar25 = 12\n",
        "miId = id(miVar25)\n",
        "print(miId)\n",
        "print(type(miVar25))\n",
        "\n",
        "\n",
        "len(miVar21)\n",
        "\n"
      ],
      "metadata": {
        "colab": {
          "base_uri": "https://localhost:8080/"
        },
        "id": "KAXExdSn5Vkt",
        "outputId": "98bc65e6-0246-48e5-8b5f-3e65c0f8afa3"
      },
      "execution_count": null,
      "outputs": [
        {
          "output_type": "stream",
          "name": "stdout",
          "text": [
            "(1, 2.3, 5, 6.7, 8)\n",
            "<class 'tuple'>\n",
            "[1, 2.3, 5, 6.7, 8]\n",
            "<class 'list'>\n",
            "{1, 2.3, 5, 6.7, 8}\n",
            "<class 'set'>\n",
            "{'Nombre': 'Jesus', 'Edad': 25, 'Hijos': True}\n",
            "<class 'dict'>\n",
            "137960742994512\n",
            "<class 'int'>\n"
          ]
        },
        {
          "output_type": "execute_result",
          "data": {
            "text/plain": [
              "5"
            ]
          },
          "metadata": {},
          "execution_count": 30
        }
      ]
    },
    {
      "cell_type": "code",
      "source": [
        "# Métodos integrados: type(), id(), len(), zip(), range(), sum(), enumerate(), abs(), max(), min(), round()\n",
        "miVar26 = \"Hola\"\n",
        "miVar27 = \"Mundo\"\n",
        "\n",
        "zipper = zip(miVar26, miVar27)\n",
        "print(zipper)\n",
        "\n",
        "# Métodos integrados: type(), id(), len(), zip()\n",
        "miVar28 = \"Hola\"\n",
        "miVar29 = \"Mundo\"\n",
        "miVar30 = [1, 2, 3]\n",
        "\n",
        "zipper = list(zip(miVar1, miVar2, miVar3))\n",
        "\n",
        "print(zipper)\n",
        "print(type(zipper))\n",
        "\n",
        "# Métodos integrados: type(), id(), len(), zip(), range()\n",
        "#\n",
        "miVar36 = list(range(0,20,2))\n",
        "\n",
        "print(miVar36)\n",
        "print(type(miVar36))\n",
        "\n",
        "# Métodos integrados: type(), id(), len(), zip(), range(),sum()\n",
        "\n",
        "#\n",
        "miVar37 = [1, 2, 4, 6, 3, 8, 9, 4, 8]\n",
        "\n",
        "resultado = sum(miVar37)\n",
        "\n",
        "print(resultado)\n",
        "print(type(resultado))\n",
        "\n",
        "miVar31 = [1,2, \"hola\", True]\n",
        "resultado9 = list(enumerate(miVar31))\n",
        "\n",
        "print(miVar31)\n",
        "print(type(miVar31))\n",
        "\n",
        "miVar32 = abs(4.5)\n",
        "print(miVar32)\n",
        "\n",
        "miVar33 = [1,2,4,5,6,7,8]\n",
        "res = max(miVar33)\n",
        "\n",
        "print(res)\n",
        "\n",
        "res1 = min(miVar33)\n",
        "print(res1)\n",
        "\n",
        "res2 = round(2.337777, 2)\n",
        "print(res2)\n",
        "\n",
        "miVar34 = list(reversed(miVar33))\n",
        "print(miVar34)\n",
        "\n",
        "miVar35 = sorted(miVar33)\n",
        "print(miVar35)"
      ],
      "metadata": {
        "colab": {
          "base_uri": "https://localhost:8080/"
        },
        "id": "LFIhyQlyBkIr",
        "outputId": "f0d2054b-751d-48db-a186-a4ef8b5905a1"
      },
      "execution_count": null,
      "outputs": [
        {
          "output_type": "stream",
          "name": "stdout",
          "text": [
            "<zip object at 0x7d793067e440>\n",
            "[('H', 'M', 1), ('o', 'u', 2), ('l', 'n', 3)]\n",
            "<class 'list'>\n",
            "[0, 2, 4, 6, 8, 10, 12, 14, 16, 18]\n",
            "<class 'list'>\n",
            "45\n",
            "<class 'int'>\n",
            "[1, 2, 'hola', True]\n",
            "<class 'list'>\n",
            "4.5\n",
            "8\n",
            "1\n",
            "2.34\n",
            "[8, 7, 6, 5, 4, 2, 1]\n",
            "[1, 2, 4, 5, 6, 7, 8]\n"
          ]
        }
      ]
    },
    {
      "cell_type": "code",
      "source": [
        "# Métodos de clases\n",
        "# objeto.metodo(p1,p2,p3,...,p5)\n",
        "miCadena = \"HOLA, MUndo\"\n",
        "miVar36 = miCadena.capitalize() # Primera letra en mayuscula y lo demas en minuscula\n",
        "print(miVar36)\n",
        "\n",
        "miVar37 = miCadena.count(\"o\")\n",
        "print(miVar37)\n",
        "\n",
        "miVar38 = miCadena.upper()\n",
        "print(miVar38)\n",
        "\n",
        "miVar39 = miCadena.replace(\"O\", \"o\")\n",
        "print(miVar39)"
      ],
      "metadata": {
        "colab": {
          "base_uri": "https://localhost:8080/"
        },
        "id": "ROpq77j4Bqq-",
        "outputId": "1effad7d-5568-4472-9a52-93b3add36010"
      },
      "execution_count": null,
      "outputs": [
        {
          "output_type": "stream",
          "name": "stdout",
          "text": [
            "Hola, mundo\n",
            "1\n",
            "HOLA, MUNDO\n",
            "HoLA, MUndo\n"
          ]
        }
      ]
    },
    {
      "cell_type": "code",
      "source": [
        "# Métodos de clases fundamentales\n",
        "# objeto.metodo()\n",
        "# Partir\n",
        "miVar40 = miCadena.split(\",\")\n",
        "print(miVar40)\n",
        "\n",
        "miCadena1 = [\"HOLA, MUndo, tre,dos\"]\n",
        "miVar41 = \"-\".join(miCadena1)\n",
        "print(miVar41)\n",
        "\n",
        "miVar42 = miCadena.replace(\"O\", \"a\")\n",
        "print(miVar42)\n",
        "\n",
        "# Metodos:append(), extend()\n",
        "miVar43 = [1,2,4,\"hola,\", True]\n",
        "\n",
        "miVar43.append(\"adios\") # Lista con elemento adicional\n",
        "print(miVar43)\n",
        "\n",
        "miVar43.extend([33,77,88]) # Añadir nueva lista a la lista actual\n",
        "print(miVar43)"
      ],
      "metadata": {
        "colab": {
          "base_uri": "https://localhost:8080/"
        },
        "id": "1fmT_eF_3_9b",
        "outputId": "837c8da7-afc1-4ed8-c599-35944436ddd7"
      },
      "execution_count": null,
      "outputs": [
        {
          "output_type": "stream",
          "name": "stdout",
          "text": [
            "['HOLA', ' MUndo']\n",
            "HOLA, MUndo, tre,dos\n",
            "HaLA, MUndo\n",
            "[1, 2, 4, 'hola,', True, 'adios']\n",
            "[1, 2, 4, 'hola,', True, 'adios', 33, 77, 88]\n"
          ]
        }
      ]
    },
    {
      "cell_type": "code",
      "source": [
        "# Métodos de clases fundamentales\n",
        "# Metodo clear ()\n",
        "# Listas\n",
        "#miVar43.clear()\n",
        "#print(miVar43)\n",
        "\n",
        "# Contar ()\n",
        "result = miCadena.count(\"o\")\n",
        "print(result)\n",
        "\n",
        "# Metodos: remove(), por()\n",
        "miVar44 = [3,4,5,6,7,8]\n",
        "miVar44.remove(3)\n",
        "print(miVar44)\n",
        "\n",
        "# pop\n",
        "miVar44.pop(2)\n",
        "print(miVar44)\n",
        "\n",
        "# reverse\n",
        "miVar44.reverse()\n",
        "print(miVar44)\n",
        "\n",
        "# sort. ordenar en orden ascendente\n",
        "miVar44.sort()\n",
        "print(miVar44)"
      ],
      "metadata": {
        "colab": {
          "base_uri": "https://localhost:8080/"
        },
        "id": "Wk1weBdP9afm",
        "outputId": "36cb8903-bd19-493e-9b7d-a149d9e58590"
      },
      "execution_count": null,
      "outputs": [
        {
          "output_type": "stream",
          "name": "stdout",
          "text": [
            "1\n",
            "[4, 5, 6, 7, 8]\n",
            "[4, 5, 7, 8]\n",
            "[8, 7, 5, 4]\n",
            "[4, 5, 7, 8]\n"
          ]
        }
      ]
    },
    {
      "cell_type": "code",
      "source": [
        "# Métodos de clases fundamentales\n",
        "# Tuplas. inmutables, no se pueden cambiar\n",
        "\n",
        "miVar45 = (3,4,5,6,7,8)\n",
        "\n",
        "result1 = miVar45.count(4)\n",
        "print(result1)\n",
        "\n",
        "result2 = miVar45.index(4)\n",
        "print(result2)"
      ],
      "metadata": {
        "colab": {
          "base_uri": "https://localhost:8080/"
        },
        "id": "avyz7MP3_p6W",
        "outputId": "6287c6df-dc3e-4f95-f22d-1b9a5e016b90"
      },
      "execution_count": null,
      "outputs": [
        {
          "output_type": "stream",
          "name": "stdout",
          "text": [
            "1\n",
            "1\n"
          ]
        }
      ]
    },
    {
      "cell_type": "code",
      "source": [
        "# Metodos de conjuntos, no admiten valores repetidos. add(). \"Teoria de conjuntos\". Pilar de la matematicas modernas\n",
        "miVar46 = {3,4,5,6,7,8}\n",
        "miVar47 = {2,4,6,8,10}\n",
        "\n",
        "miVar46.add(10)\n",
        "print(miVar46)\n",
        "\n",
        "#miVar46.clear()\n",
        "#print(miVar46)\n",
        "\n",
        "miVar47.remove(10)\n",
        "print(miVar47)\n",
        "\n",
        "miVar47.discard(2)\n",
        "print(miVar47)\n",
        "\n",
        "miVar47 = miVar46.difference(miVar47)\n",
        "print(miVar47)\n",
        "\n",
        "result3 = miVar46.intersection(miVar47)\n",
        "print(result3)\n",
        "\n",
        "result4 = miVar46.union(miVar47)\n",
        "print(result4)"
      ],
      "metadata": {
        "colab": {
          "base_uri": "https://localhost:8080/"
        },
        "id": "L2Y3cvoHApXm",
        "outputId": "0f2e94ce-38dc-4918-fcff-edfa11b26129"
      },
      "execution_count": null,
      "outputs": [
        {
          "output_type": "stream",
          "name": "stdout",
          "text": [
            "{3, 4, 5, 6, 7, 8, 10}\n",
            "{2, 4, 6, 8}\n",
            "{4, 6, 8}\n",
            "{10, 3, 5, 7}\n",
            "{10, 3, 5, 7}\n",
            "{3, 4, 5, 6, 7, 8, 10}\n"
          ]
        }
      ]
    },
    {
      "cell_type": "code",
      "source": [
        "# Métodos de clases fundamentales\n",
        "# Metodos de diccionarios\n",
        "\n",
        "miVar48 = {\"Nombre\": \"Jesus\", \"Edad\":33}\n",
        "print(miVar48)\n",
        "\n",
        "miLista = [\"A\", \"B\", \"C\"]\n",
        "\n",
        "miVar49 = dict.fromkeys(miLista)\n",
        "miVar49[\"A\"] = \"Manzana\"\n",
        "miVar49[\"B\"] = \"Pera\"\n",
        "miVar49[\"C\"] = [1,2,3,4]\n",
        "miVar49[\"D\"] = (1,2,5,6,)\n",
        "\n",
        "miVar49.pop(\"D\")\n",
        "print(miVar49)\n",
        "\n",
        "\n",
        "result5 = miVar49.get(\"C\")\n",
        "print(result5)\n",
        "\n",
        "claves = miVar49.keys()\n",
        "print(claves)\n",
        "\n",
        "valores = miVar49.values()\n",
        "print(valores)\n",
        "\n",
        "todo = miVar49.items()\n",
        "print(todo)\n",
        "#miVar48.clear()\n",
        "#print(miVar48)\n",
        "\n"
      ],
      "metadata": {
        "colab": {
          "base_uri": "https://localhost:8080/"
        },
        "id": "gg6l2EFACzAs",
        "outputId": "c2731883-7daa-4a5d-ed4c-67a00f173da9"
      },
      "execution_count": null,
      "outputs": [
        {
          "output_type": "stream",
          "name": "stdout",
          "text": [
            "{'Nombre': 'Jesus', 'Edad': 33}\n",
            "{'A': 'Manzana', 'B': 'Pera', 'C': [1, 2, 3, 4]}\n",
            "[1, 2, 3, 4]\n",
            "dict_keys(['A', 'B', 'C'])\n",
            "dict_values(['Manzana', 'Pera', [1, 2, 3, 4]])\n",
            "dict_items([('A', 'Manzana'), ('B', 'Pera'), ('C', [1, 2, 3, 4])])\n"
          ]
        }
      ]
    },
    {
      "cell_type": "code",
      "source": [
        "# Estructura de control\n",
        "# Condiciones\n",
        "# if\n",
        "'''\n",
        "if (expresion):\n",
        "    instrucciones\n",
        "'''\n",
        "\n",
        "X = 10\n",
        "if (X == 10):\n",
        "  print(\"La expresion es verdadera\")\n",
        "  print(\"La expresion es verdadera\")\n",
        "  print(\"La expresion es verdadera\")\n",
        "\n"
      ],
      "metadata": {
        "colab": {
          "base_uri": "https://localhost:8080/"
        },
        "id": "1wE7E_Y5Gkvx",
        "outputId": "fb7bf382-20fc-4670-906b-8a332b1b9215"
      },
      "execution_count": null,
      "outputs": [
        {
          "output_type": "stream",
          "name": "stdout",
          "text": [
            "La expresion es verdadera\n",
            "La expresion es verdadera\n",
            "La expresion es verdadera\n"
          ]
        }
      ]
    },
    {
      "cell_type": "code",
      "source": [
        "Y = 10\n",
        "print(\"El robot camina\") # Variables globales\n",
        "if (Y == 10):\n",
        "  print(\"El robot se detiene\") # Variables locales\n",
        "print(\"El robot te saluda\")"
      ],
      "metadata": {
        "colab": {
          "base_uri": "https://localhost:8080/"
        },
        "id": "3I7qJuEWIN0_",
        "outputId": "d932b1d2-791f-4db8-adbc-1d13a7e10650"
      },
      "execution_count": null,
      "outputs": [
        {
          "output_type": "stream",
          "name": "stdout",
          "text": [
            "El robot camina\n",
            "El robot se detiene\n",
            "El robot te saluda\n"
          ]
        }
      ]
    },
    {
      "cell_type": "code",
      "source": [
        "# Revisas estadistica descriptiva y algebra lineal. Centralidad, dispersion, de forma"
      ],
      "metadata": {
        "id": "btYILCcoJnQm"
      },
      "execution_count": null,
      "outputs": []
    },
    {
      "cell_type": "code",
      "source": [
        "# Control de flujo\n",
        "# if - else\n",
        "\n",
        "print(\"Esta linea es independiente de if\")\n",
        "valor = 10\n",
        "if (valor > 0):\n",
        "  print(\"El valor es positivo\")\n",
        "else:\n",
        "  print(\"El valor es menor que cero\")\n",
        "\n",
        "\n",
        "print(\"Esta linea es independiente de if\")"
      ],
      "metadata": {
        "colab": {
          "base_uri": "https://localhost:8080/"
        },
        "id": "CtN_J2NbnWNW",
        "outputId": "ab2dc543-7142-43b2-80c6-99264b91e207"
      },
      "execution_count": null,
      "outputs": [
        {
          "output_type": "stream",
          "name": "stdout",
          "text": [
            "Esta linea es independiente de if\n",
            "El valor es positivo\n",
            "Esta linea es independiente de if\n"
          ]
        }
      ]
    },
    {
      "cell_type": "code",
      "source": [
        "# Control de flujo\n",
        "# if - else\n",
        "\n",
        "print(\"El robot esta caminando\")\n",
        "valor1 = \"hoyo\"\n",
        "if (valor1 == \"pared\"):\n",
        "  print(\"Una pared!\")\n",
        "  print(\"El robot gira a la derecha\")\n",
        "else:\n",
        "  print(\"Un hoyo!\")\n",
        "  print(\"El robot brinca el hoyo\")\n",
        "\n",
        "print(\"El robot sigue continua...\")\n"
      ],
      "metadata": {
        "colab": {
          "base_uri": "https://localhost:8080/"
        },
        "id": "ii-JcCpXoo7w",
        "outputId": "ea57c6db-7610-4141-996b-47cf59175e96"
      },
      "execution_count": null,
      "outputs": [
        {
          "output_type": "stream",
          "name": "stdout",
          "text": [
            "El robot esta caminando\n",
            "Un hoyo!\n",
            "El robot brinca el hoyo\n",
            "El robot sigue continua...\n"
          ]
        }
      ]
    },
    {
      "cell_type": "code",
      "source": [
        "# Control de flujo\n",
        "# if - elif - else\n",
        "\n",
        "print(\"El robot esta caminando\")\n",
        "\n",
        "valor2 = \"canta\"\n",
        "\n",
        "if (valor2 == \"pared\"):\n",
        "  print(\"Una pared!\")\n",
        "  print(\"El robot gira a la derecha\")\n",
        "elif (valor2 == \"hoyo\"):\n",
        "  print(\"Un hoyo!\")\n",
        "  print(\"El robot brinca el hoyo\")\n",
        "elif (valor2 == \"canta\"):\n",
        "  print(\"A cantar!\")\n",
        "  print(\"El robot esta cantando\")\n",
        "else:\n",
        "  print(\"El robot chifla y camina\")\n",
        "\n",
        "print(\"El robot sigue continuando...\")\n"
      ],
      "metadata": {
        "colab": {
          "base_uri": "https://localhost:8080/"
        },
        "id": "hf6QOYUZqKbE",
        "outputId": "7b554c95-8235-4eca-c586-4882294d982f"
      },
      "execution_count": null,
      "outputs": [
        {
          "output_type": "stream",
          "name": "stdout",
          "text": [
            "El robot esta caminando\n",
            "A cantar!\n",
            "El robot esta cantando\n",
            "El robot sigue continuando...\n"
          ]
        }
      ]
    },
    {
      "cell_type": "code",
      "source": [
        "# Control de flujo\n",
        "# if - elif - else\n",
        "\n",
        "X = 0\n",
        "if X > 0:\n",
        "  print(f\"El valor {X} es positivo\")\n",
        "elif  X < 0:\n",
        "  print(f\"El valor {X} es negativo\")\n",
        "else:\n",
        "  print(f\"El valor {X} es igual a cero\")\n"
      ],
      "metadata": {
        "colab": {
          "base_uri": "https://localhost:8080/"
        },
        "id": "jVkoIKPLrqy6",
        "outputId": "898c4c44-6919-4453-b0d2-a4e25ef7a4fa"
      },
      "execution_count": null,
      "outputs": [
        {
          "output_type": "stream",
          "name": "stdout",
          "text": [
            "El valor 0 es igual a cero\n"
          ]
        }
      ]
    },
    {
      "cell_type": "code",
      "source": [
        "# Control de flujo\n",
        "# Ciclos: while, for. while, Se repite Un numero no determinado de veces\n",
        "\n",
        "\"\"\"\n",
        "contador =\n",
        "while (expresion logica):\n",
        "  Bloque de instrucciones\n",
        "\"\"\"\n",
        "\n",
        "contador = 0\n",
        "while contador < 10:\n",
        "  print(f\"Hola, mundo! {contador}\")\n",
        "  contador = contador + 1\n",
        "\n",
        "print(\"El programa termino\")"
      ],
      "metadata": {
        "colab": {
          "base_uri": "https://localhost:8080/"
        },
        "id": "GMZNojjQsrhY",
        "outputId": "e4ef2572-67bd-4eca-eb66-2e6793f2bdc9"
      },
      "execution_count": null,
      "outputs": [
        {
          "output_type": "stream",
          "name": "stdout",
          "text": [
            "Hola, mundo! 0\n",
            "Hola, mundo! 1\n",
            "Hola, mundo! 2\n",
            "Hola, mundo! 3\n",
            "Hola, mundo! 4\n",
            "Hola, mundo! 5\n",
            "Hola, mundo! 6\n",
            "Hola, mundo! 7\n",
            "Hola, mundo! 8\n",
            "Hola, mundo! 9\n",
            "El programa termino\n"
          ]
        }
      ]
    },
    {
      "cell_type": "code",
      "source": [
        "# Control de flujo\n",
        "# Ciclos: while, for\n",
        "\n",
        "\"\"\"\n",
        "\n",
        "for elemento iterable:\n",
        "  Bloque de instrucciones\n",
        "\"\"\"\n",
        "\n",
        "for letra in \"Hola\":\n",
        "  print(\"Hola mundo!\")"
      ],
      "metadata": {
        "colab": {
          "base_uri": "https://localhost:8080/"
        },
        "id": "2lVaCrEqvdGT",
        "outputId": "8778cbf4-d21a-4410-cb86-3491d37a7cb9"
      },
      "execution_count": null,
      "outputs": [
        {
          "output_type": "stream",
          "name": "stdout",
          "text": [
            "Hola mundo!\n",
            "Hola mundo!\n",
            "Hola mundo!\n",
            "Hola mundo!\n"
          ]
        }
      ]
    },
    {
      "cell_type": "code",
      "source": [
        "# Control de flujo\n",
        "# Ciclos: while, for. FOR, Se repite Un numero determinado de veces\n",
        "\n",
        "\"\"\"\n",
        "\n",
        "for elemento iterable:\n",
        "  Bloque de instrucciones\n",
        "\"\"\"\n",
        "\n",
        "for letra in \"Hola\":\n",
        "  print(letra)"
      ],
      "metadata": {
        "colab": {
          "base_uri": "https://localhost:8080/"
        },
        "id": "36Q1_sgZwRYH",
        "outputId": "7bcdda43-f998-4c58-d1cc-c9d0077223f3"
      },
      "execution_count": null,
      "outputs": [
        {
          "output_type": "stream",
          "name": "stdout",
          "text": [
            "H\n",
            "o\n",
            "l\n",
            "a\n"
          ]
        }
      ]
    },
    {
      "cell_type": "code",
      "source": [
        "# Control de flujo\n",
        "# Ciclos: while, for\n",
        "\n",
        "\"\"\"\n",
        "\n",
        "for elemento iterable:\n",
        "  Bloque de instrucciones\n",
        "\"\"\"\n",
        "iterable = \"Hola\"\n",
        "for i in iterable:\n",
        "  print(i)"
      ],
      "metadata": {
        "colab": {
          "base_uri": "https://localhost:8080/"
        },
        "id": "brLGuKUhwn2g",
        "outputId": "b04e0b4a-9128-4db4-bc37-5a836554559d"
      },
      "execution_count": null,
      "outputs": [
        {
          "output_type": "stream",
          "name": "stdout",
          "text": [
            "H\n",
            "o\n",
            "l\n",
            "a\n"
          ]
        }
      ]
    },
    {
      "cell_type": "code",
      "source": [
        "# Control de flujo\n",
        "# Ciclos: while, for. Iterable, realizar una accion por cada elemento de un objeto iterable\n",
        "\n",
        "\"\"\"\n",
        "\n",
        "for elemento iterable:\n",
        "  Bloque de instrucciones\n",
        "\"\"\"\n",
        "variable = [1, 2.5, True, \"Hola\", None]\n",
        "for j in variable:\n",
        "  print(j)"
      ],
      "metadata": {
        "colab": {
          "base_uri": "https://localhost:8080/"
        },
        "id": "xXILkLUnwzwD",
        "outputId": "1262d183-5a3c-46a1-bdc4-2c6317f52d26"
      },
      "execution_count": null,
      "outputs": [
        {
          "output_type": "stream",
          "name": "stdout",
          "text": [
            "1\n",
            "2.5\n",
            "True\n",
            "Hola\n",
            "None\n"
          ]
        }
      ]
    },
    {
      "cell_type": "code",
      "source": [
        "# Control de flujo\n",
        "# Ciclos: while, for. Iterable, realizar una accion por cada elemento de un objeto iterable\n",
        "\n",
        "\"\"\"\n",
        "\n",
        "for elemento iterable:\n",
        "  Bloque de instrucciones\n",
        "\"\"\"\n",
        "for j in range(10):\n",
        "  print(f\"se imprime el elemento {j}\")"
      ],
      "metadata": {
        "colab": {
          "base_uri": "https://localhost:8080/"
        },
        "id": "K9b4NwJ4xNzV",
        "outputId": "e0c69937-d6d1-4b75-8421-f654f6aae611"
      },
      "execution_count": null,
      "outputs": [
        {
          "output_type": "stream",
          "name": "stdout",
          "text": [
            "se imprime el elemento 0\n",
            "se imprime el elemento 1\n",
            "se imprime el elemento 2\n",
            "se imprime el elemento 3\n",
            "se imprime el elemento 4\n",
            "se imprime el elemento 5\n",
            "se imprime el elemento 6\n",
            "se imprime el elemento 7\n",
            "se imprime el elemento 8\n",
            "se imprime el elemento 9\n"
          ]
        }
      ]
    },
    {
      "cell_type": "code",
      "source": [
        "# Interrupcion de ciclos\n",
        "# break y continue\n",
        "\n",
        "\n",
        "contador = 0\n",
        "while (contador <= 10):\n",
        "  print(contador)\n",
        "  contador += 1\n",
        "  if contador % 2 == 0:\n",
        "    break\n",
        "\n",
        "print(\"Se rompio el ciclo\")\n"
      ],
      "metadata": {
        "colab": {
          "base_uri": "https://localhost:8080/"
        },
        "id": "2SsWy3NmynXx",
        "outputId": "8c0326a0-0863-4664-f012-768667976320"
      },
      "execution_count": null,
      "outputs": [
        {
          "output_type": "stream",
          "name": "stdout",
          "text": [
            "0\n",
            "1\n",
            "Se rompio el ciclo\n"
          ]
        }
      ]
    },
    {
      "cell_type": "code",
      "source": [
        "# Interrupcion de ciclos\n",
        "# break y continue\n",
        "\n",
        "for i in [1,3,5,7,8,9,10]:\n",
        "  if (i % 2 == 0):\n",
        "    break\n",
        "  print(i)\n",
        "print(\"El programa se rompio\")"
      ],
      "metadata": {
        "colab": {
          "base_uri": "https://localhost:8080/"
        },
        "id": "5gGmOrxM1egb",
        "outputId": "cd2061fd-5108-4049-dba8-c520ded70d10"
      },
      "execution_count": null,
      "outputs": [
        {
          "output_type": "stream",
          "name": "stdout",
          "text": [
            "1\n",
            "3\n",
            "5\n",
            "7\n",
            "El programa se rompio\n"
          ]
        }
      ]
    },
    {
      "cell_type": "code",
      "source": [
        "# Interrupcion de ciclos\n",
        "# break y continue\n",
        "\n",
        "i = 1\n",
        "while (i <= 10):\n",
        "  if (i ==7):\n",
        "    i += 1\n",
        "    continue\n",
        "  elif (i ==2):\n",
        "    i += 1\n",
        "    continue\n",
        "  print(i)\n",
        "  i += 1"
      ],
      "metadata": {
        "colab": {
          "base_uri": "https://localhost:8080/"
        },
        "id": "daogCvdV2lFN",
        "outputId": "644422e3-cd36-4720-f23a-5f7986cda7c5"
      },
      "execution_count": null,
      "outputs": [
        {
          "output_type": "stream",
          "name": "stdout",
          "text": [
            "1\n",
            "3\n",
            "4\n",
            "5\n",
            "6\n",
            "8\n",
            "9\n",
            "10\n"
          ]
        }
      ]
    },
    {
      "cell_type": "code",
      "source": [
        "# Interrupcion de ciclos\n",
        "# break y continue\n",
        "\n",
        "for i in [1,4,2,5,7,9,10]:\n",
        "  if (i % 2 == 0):\n",
        "    continue\n",
        "  print(i)"
      ],
      "metadata": {
        "colab": {
          "base_uri": "https://localhost:8080/"
        },
        "id": "qJNBno-O3qMS",
        "outputId": "085a4298-f7d2-4fcc-8a5f-67abc519f10b"
      },
      "execution_count": null,
      "outputs": [
        {
          "output_type": "stream",
          "name": "stdout",
          "text": [
            "1\n",
            "5\n",
            "7\n",
            "9\n"
          ]
        }
      ]
    },
    {
      "cell_type": "code",
      "source": [
        "# Comparación de números\n",
        "\n",
        "num = (float(input(\"Ingresa un numero: \")))\n",
        "if (num > 0):\n",
        "  print(f\"El numero {num} es mayor que cero\")\n",
        "elif (num < 0):\n",
        "  print(f\"El numero {num} es menor que cero\")\n",
        "else:\n",
        "  print(f\"El numero {num} es igual a cero\")"
      ],
      "metadata": {
        "colab": {
          "base_uri": "https://localhost:8080/"
        },
        "id": "Db0j36sE6S0Q",
        "outputId": "8a2f1ad0-44ff-404b-985c-63aefb784475"
      },
      "execution_count": null,
      "outputs": [
        {
          "output_type": "stream",
          "name": "stdout",
          "text": [
            "Ingresa un numero: 2\n",
            "El numero 2.0 es mayor que cero\n"
          ]
        }
      ]
    },
    {
      "cell_type": "code",
      "source": [
        "# Verificar si una letra es vocal o consonante\n",
        "\n",
        "letra = input(\"Escribe una letra: \")\n",
        "\n",
        "vocales = \"aeiou\"\n",
        "if letra in vocales:\n",
        "  print(f\"{letra} es una vocal\")\n",
        "else:\n",
        "  print(f\"{letra} es una consonante\")"
      ],
      "metadata": {
        "colab": {
          "base_uri": "https://localhost:8080/"
        },
        "id": "CEaetYjo_BLY",
        "outputId": "03ac3a58-c351-42d2-fdf1-83e600638426"
      },
      "execution_count": null,
      "outputs": [
        {
          "output_type": "stream",
          "name": "stdout",
          "text": [
            "Escribe una letra: w\n",
            "w es una consonante\n"
          ]
        }
      ]
    },
    {
      "cell_type": "code",
      "source": [
        "# Comprobar si un año determinado es bisiesto\n",
        "\n",
        "dato = int(input(\"Escribe un año: \"))\n",
        "if dato % 4 == 0:\n",
        "  if dato % 400 == 0:\n",
        "    print(f\"{dato} es un año bisiesto\")\n",
        "  else:\n",
        "    print(f\"{dato} no es bisiesto\")\n",
        "else:\n",
        "    print(f\"El año {dato} no es bisiesto\")"
      ],
      "metadata": {
        "colab": {
          "base_uri": "https://localhost:8080/"
        },
        "id": "6ypFyElyAEFz",
        "outputId": "252e6fe6-d857-40d8-fbff-9b57abe955df"
      },
      "execution_count": null,
      "outputs": [
        {
          "output_type": "stream",
          "name": "stdout",
          "text": [
            "Escribe un año: 1222\n",
            "El año 1222 no es bisiesto\n"
          ]
        }
      ]
    },
    {
      "cell_type": "code",
      "source": [
        "# Comprobar si un año determinado es bisiesto\n",
        "\n",
        "dato = int(input(\"Escribe un año: \"))\n",
        "\n",
        "if (dato % 4 == 0 and not dato % 200 == 0) or dato % 400 != 0:\n",
        "  print(\"Es bisiesto\")\n",
        "else:\n",
        "  print(\"No bisiesto\")"
      ],
      "metadata": {
        "colab": {
          "base_uri": "https://localhost:8080/"
        },
        "id": "83Jsa0oKDRqx",
        "outputId": "0415e13a-1c5a-4f42-b98e-91e370ea5307"
      },
      "execution_count": null,
      "outputs": [
        {
          "output_type": "stream",
          "name": "stdout",
          "text": [
            "Escribe un año: 2024\n",
            "Es bisiesto\n"
          ]
        }
      ]
    },
    {
      "cell_type": "code",
      "source": [
        "# Clasificacion de temperatura\n",
        "temperatura = float(input(\"Ingresa la temperatura: \"))\n",
        "\n",
        "if temperatura < 0:\n",
        "  print(\"Congelado\")\n",
        "elif 0 <= temperatura <= 15:\n",
        "  print(\"Hace frio\")\n",
        "elif 16 <= temperatura <= 25:\n",
        "  print(\"Temperatura templada\")\n",
        "elif 26 <= temperatura <= 35:\n",
        "  print(\"Hace calor\")\n",
        "else:\n",
        "  print(\"Es un infierno\")"
      ],
      "metadata": {
        "colab": {
          "base_uri": "https://localhost:8080/"
        },
        "id": "EbUDP0HVFa72",
        "outputId": "cdfe4786-e54b-46e9-8c93-630ebbd32338"
      },
      "execution_count": null,
      "outputs": [
        {
          "output_type": "stream",
          "name": "stdout",
          "text": [
            "Ingresa la temperatura: 45\n",
            "Es un infierno\n"
          ]
        }
      ]
    },
    {
      "cell_type": "code",
      "source": [
        "# Determinar el tipo de triangulo\n",
        "\n",
        "lado1 = float(input(\"Ingresa el primer lado: \"))\n",
        "lado2 = float(input(\"Ingresa el primer lado: \"))\n",
        "lado3 = float(input(\"Ingresa el primer lado: \"))\n",
        "\n",
        "print(\"--------\")\n",
        "if lado1 == lado2 == lado3:\n",
        "  print(\"Equilatero\")\n",
        "elif lado1 == lado2 or lado1 == lado3 or lado2 == lado3:\n",
        "  print(\"Isosceles\")\n",
        "else:\n",
        "  print(\"Escaleno\")\n",
        "print(\"--------\")\n",
        "print(\"--------\")\n"
      ],
      "metadata": {
        "colab": {
          "base_uri": "https://localhost:8080/"
        },
        "id": "LICJKF9dHb1l",
        "outputId": "a17c04a8-8826-4f4c-8b96-df1d6af5119e"
      },
      "execution_count": null,
      "outputs": [
        {
          "output_type": "stream",
          "name": "stdout",
          "text": [
            "Ingresa el primer lado: 12\n",
            "Ingresa el primer lado: 12\n",
            "Ingresa el primer lado: 12\n",
            "--------\n",
            "Equilatero\n",
            "--------\n",
            "--------\n"
          ]
        }
      ]
    },
    {
      "cell_type": "code",
      "source": [
        "# Determinar si un numero es positivo y par. Algebra superior carmen gomez laveaga\n",
        "\n",
        "num = float(input(\"Ingresa el numero: \"))\n",
        "\n",
        "if num > 0:\n",
        "  if num % 2 == 0:\n",
        "    print(\"El numero es positivo y par\")\n",
        "  else:\n",
        "    print(\"El numero es negativo y es impar\")\n",
        "elif num < 0:\n",
        "  if num % 2 == 0:\n",
        "        print(\"El numero es negativo y par\")\n",
        "  else:\n",
        "    print(\"El numero es negativo y es impar\")\n",
        "else:\n",
        "  print(\"El numero es cero\")\n",
        "if num > 0:\n",
        "  pass\n",
        "elif num < 0:\n",
        "  pass\n",
        "else:\n",
        "  pass"
      ],
      "metadata": {
        "colab": {
          "base_uri": "https://localhost:8080/"
        },
        "id": "pms_QnGpKZWY",
        "outputId": "5a7a7d30-4dc6-42fe-a7b1-76ff084fe1af"
      },
      "execution_count": null,
      "outputs": [
        {
          "output_type": "stream",
          "name": "stdout",
          "text": [
            "Ingresa el numero: -32\n",
            "El numero es negativo y par\n"
          ]
        }
      ]
    },
    {
      "cell_type": "code",
      "source": [
        "# Evaluar contraseña\n",
        "\n",
        "contraseña = input(\"Escribe una contraseña: \")\n",
        "\n",
        "if len(contraseña) < 6:\n",
        "  print(\"La contraseña es muy corta.\")\n",
        "elif not any(char.isdigit() for char in contraseña):  # elif not any(i.isdigit() for i in contraseña):\n",
        "  print(\"La contraseña debe contener al menos un numero\")\n",
        "elif not any(char.isupper() for char in contraseña):\n",
        "  print(\"La contraseña debe contener al menos una mayuscula\")\n",
        "elif not any(char.islower() for char in contraseña):\n",
        "  print(\"La contraseña debe contener al menos una minuscula\")\n",
        "elif not any(char in \"!@#$%\" for char in contraseña):\n",
        "  print(\"La contraseña debe contener al menos un caracter especial\")\n",
        "else:\n",
        "  print(\"La contraseña es segura\")\n"
      ],
      "metadata": {
        "colab": {
          "base_uri": "https://localhost:8080/"
        },
        "id": "OIclSjjcrOVn",
        "outputId": "b2141e92-e5e8-408d-dee4-3805c28e46a6"
      },
      "execution_count": null,
      "outputs": [
        {
          "output_type": "stream",
          "name": "stdout",
          "text": [
            "Escribe una contraseña: Flores1213%\n",
            "La contraseña es segura\n"
          ]
        }
      ]
    },
    {
      "cell_type": "code",
      "source": [
        "# while\n",
        "\n",
        "contador = 0\n",
        "\n",
        "while contador <= 5:\n",
        "  print(\"Hola\")\n",
        "  print(contador)\n",
        "  contador = contador + 1"
      ],
      "metadata": {
        "colab": {
          "base_uri": "https://localhost:8080/"
        },
        "id": "PknffVCczP6S",
        "outputId": "97c8ed00-9fa4-44a6-b8f4-cdf92f550614"
      },
      "execution_count": null,
      "outputs": [
        {
          "output_type": "stream",
          "name": "stdout",
          "text": [
            "Hola\n",
            "0\n",
            "Hola\n",
            "1\n",
            "Hola\n",
            "2\n",
            "Hola\n",
            "3\n",
            "Hola\n",
            "4\n",
            "Hola\n",
            "5\n"
          ]
        }
      ]
    },
    {
      "cell_type": "code",
      "source": [
        "# while\n",
        "\n",
        "i = 0\n",
        "\n",
        "while i <= 5:\n",
        "  print(\"Hola\", i)\n",
        "  i += 1   # i = i +1\n",
        "\n",
        "print(\"Se termino\")"
      ],
      "metadata": {
        "id": "WhK31MsX1Aa9"
      },
      "execution_count": null,
      "outputs": []
    },
    {
      "cell_type": "code",
      "source": [
        "# while\n",
        "\n",
        "i = 0\n",
        "suma = 0\n",
        "\n",
        "while i <= 10:\n",
        "  suma += i\n",
        "  i += 1   # i = i +1\n",
        "  print(\"suma\")"
      ],
      "metadata": {
        "colab": {
          "base_uri": "https://localhost:8080/"
        },
        "id": "6OqRpFa51wYv",
        "outputId": "431041d2-87ee-4d7c-ae88-e7352fcdd943"
      },
      "execution_count": null,
      "outputs": [
        {
          "output_type": "stream",
          "name": "stdout",
          "text": [
            "suma\n",
            "suma\n",
            "suma\n",
            "suma\n",
            "suma\n",
            "suma\n",
            "suma\n",
            "suma\n",
            "suma\n",
            "suma\n",
            "suma\n"
          ]
        }
      ]
    },
    {
      "cell_type": "code",
      "source": [
        "# Conteo en reversa\n",
        "\n",
        "cuenta = 10\n",
        "\n",
        "while cuenta > 0:\n",
        "  print(cuenta)\n",
        "  cuenta -= 1 # cuenta = cuenta - 1\n",
        "\n",
        "print(\"Empecemos!\")"
      ],
      "metadata": {
        "colab": {
          "base_uri": "https://localhost:8080/"
        },
        "id": "RFPJhQz528zD",
        "outputId": "c64137d8-7fe6-472c-cea9-089b73ae8137"
      },
      "execution_count": null,
      "outputs": [
        {
          "output_type": "stream",
          "name": "stdout",
          "text": [
            "10\n",
            "9\n",
            "8\n",
            "7\n",
            "6\n",
            "5\n",
            "4\n",
            "3\n",
            "2\n",
            "1\n",
            "Empecemos!\n"
          ]
        }
      ]
    },
    {
      "cell_type": "code",
      "source": [
        "# Encontrar el primer multiplo de 3 mayor que 10\n",
        "\n",
        "numero = 10\n",
        "\n",
        "while numero % 3 !=0:\n",
        "  numero += 1\n",
        "\n",
        "print(numero)"
      ],
      "metadata": {
        "colab": {
          "base_uri": "https://localhost:8080/"
        },
        "id": "m3hv0LkS373W",
        "outputId": "d28fb98e-5b6a-45ca-a52c-2540128ac782"
      },
      "execution_count": null,
      "outputs": [
        {
          "output_type": "stream",
          "name": "stdout",
          "text": [
            "12\n"
          ]
        }
      ]
    },
    {
      "cell_type": "code",
      "source": [
        "numSecreto = 7\n",
        "numUsuario = int(input(\"Escribe tu numero: \"))\n",
        "\n",
        "while numUsuario != numSecreto:\n",
        "  numUsuario = int(input(\"Escribe tu numero: \"))\n",
        "\n",
        "print(\"Adivinaste!\")\n"
      ],
      "metadata": {
        "colab": {
          "base_uri": "https://localhost:8080/"
        },
        "id": "yqTWYFTQ5pog",
        "outputId": "ea335888-dccf-47e8-f6ea-60dd17adef5b"
      },
      "execution_count": null,
      "outputs": [
        {
          "output_type": "stream",
          "name": "stdout",
          "text": [
            "Escribe tu numero: 4\n",
            "Escribe tu numero: 5\n",
            "Escribe tu numero: 2\n",
            "Escribe tu numero: 7\n",
            "Adivinaste!\n"
          ]
        }
      ]
    },
    {
      "cell_type": "code",
      "source": [
        "# Tablas de multiplicar\n",
        "\n",
        "num = int(input(\"Dame un numero: \"))\n",
        "multiplicador = 0\n",
        "\n",
        "while multiplicador <= 10:\n",
        "  print(f\"{num} x {multiplicador} = {num * multiplicador}\")\n",
        "  multiplicador += 1"
      ],
      "metadata": {
        "colab": {
          "base_uri": "https://localhost:8080/"
        },
        "id": "JvT-aQGs7XOg",
        "outputId": "8a63aae5-a084-4954-a44e-250657193c25"
      },
      "execution_count": null,
      "outputs": [
        {
          "output_type": "stream",
          "name": "stdout",
          "text": [
            "Dame un numero: 78\n",
            "78 x 0 = 0\n",
            "78 x 1 = 78\n",
            "78 x 2 = 156\n",
            "78 x 3 = 234\n",
            "78 x 4 = 312\n",
            "78 x 5 = 390\n",
            "78 x 6 = 468\n",
            "78 x 7 = 546\n",
            "78 x 8 = 624\n",
            "78 x 9 = 702\n",
            "78 x 10 = 780\n"
          ]
        }
      ]
    },
    {
      "cell_type": "code",
      "source": [
        "# Bucle para imprimir for\n",
        "# imprimir los números del 1 1al 5\n",
        "\n",
        "iterable = \"12345\"\n",
        "iterable2 = [1,2,3,4,56,22]\n",
        "print(type(iterable))\n",
        "\n",
        "for elemento in iterable2:\n",
        "  print(elemento)"
      ],
      "metadata": {
        "colab": {
          "base_uri": "https://localhost:8080/"
        },
        "id": "zl8G3hN--ZQb",
        "outputId": "c011c11a-3191-466f-d2ba-1f3552e4ba8c"
      },
      "execution_count": null,
      "outputs": [
        {
          "output_type": "stream",
          "name": "stdout",
          "text": [
            "<class 'str'>\n",
            "1\n",
            "2\n",
            "3\n",
            "4\n",
            "56\n",
            "22\n"
          ]
        }
      ]
    },
    {
      "cell_type": "code",
      "source": [
        "for i in range(1,105,4):\n",
        "  print(i)"
      ],
      "metadata": {
        "colab": {
          "base_uri": "https://localhost:8080/"
        },
        "id": "Jb3Y70GcAIY0",
        "outputId": "30f38b85-5003-4aa2-b729-3de3d0c9ab01"
      },
      "execution_count": null,
      "outputs": [
        {
          "output_type": "stream",
          "name": "stdout",
          "text": [
            "1\n",
            "5\n",
            "9\n",
            "13\n",
            "17\n",
            "21\n",
            "25\n",
            "29\n",
            "33\n",
            "37\n",
            "41\n",
            "45\n",
            "49\n",
            "53\n",
            "57\n",
            "61\n",
            "65\n",
            "69\n",
            "73\n",
            "77\n",
            "81\n",
            "85\n",
            "89\n",
            "93\n",
            "97\n",
            "101\n"
          ]
        }
      ]
    },
    {
      "cell_type": "code",
      "source": [
        "# Sumar numeros del uno al diez\n",
        "suma = 0\n",
        "for i in range (1,11):\n",
        "  print(i)\n",
        "  suma += i\n",
        "print(suma)"
      ],
      "metadata": {
        "colab": {
          "base_uri": "https://localhost:8080/"
        },
        "id": "hthzoFfMA0Wu",
        "outputId": "e970fc93-d99b-4765-8369-815689c8922b"
      },
      "execution_count": null,
      "outputs": [
        {
          "output_type": "stream",
          "name": "stdout",
          "text": [
            "1\n",
            "2\n",
            "3\n",
            "4\n",
            "5\n",
            "6\n",
            "7\n",
            "8\n",
            "9\n",
            "10\n",
            "55\n"
          ]
        }
      ]
    },
    {
      "cell_type": "code",
      "source": [
        "suma = 0\n",
        "for i in range (1,11):\n",
        "  suma = suma + i\n",
        "print(suma)\n",
        "print(sum(range(1,11)))"
      ],
      "metadata": {
        "colab": {
          "base_uri": "https://localhost:8080/"
        },
        "id": "_X5KT4GKBye1",
        "outputId": "d4852891-7793-494e-f652-1d8a32377c5b"
      },
      "execution_count": null,
      "outputs": [
        {
          "output_type": "stream",
          "name": "stdout",
          "text": [
            "55\n",
            "55\n"
          ]
        }
      ]
    },
    {
      "cell_type": "code",
      "source": [
        "cadena = \"Hola, Calamardo\"\n",
        "\n",
        "for i in cadena:\n",
        "  print(i)"
      ],
      "metadata": {
        "colab": {
          "base_uri": "https://localhost:8080/"
        },
        "id": "ahIT1ECJCY50",
        "outputId": "1da84bd4-e702-4350-f025-5468479c0208"
      },
      "execution_count": null,
      "outputs": [
        {
          "output_type": "stream",
          "name": "stdout",
          "text": [
            "H\n",
            "o\n",
            "l\n",
            "a\n",
            ",\n",
            " \n",
            "C\n",
            "a\n",
            "l\n",
            "a\n",
            "m\n",
            "a\n",
            "r\n",
            "d\n",
            "o\n"
          ]
        }
      ]
    },
    {
      "cell_type": "code",
      "source": [
        "# la suma del producto de dos numeros\n",
        "\n",
        "Z = [10,9,8,9,10,6,7,8]\n",
        "\n",
        "suma = 0\n",
        "for i in Z:\n",
        "  suma += i ** 2\n",
        "print(suma)"
      ],
      "metadata": {
        "colab": {
          "base_uri": "https://localhost:8080/"
        },
        "id": "y0EkrWGEC2-g",
        "outputId": "79d88be2-88d5-4a80-bace-51880a580534"
      },
      "execution_count": null,
      "outputs": [
        {
          "output_type": "stream",
          "name": "stdout",
          "text": [
            "575\n"
          ]
        }
      ]
    },
    {
      "cell_type": "code",
      "source": [
        "# Contar la cantidad de vocales en la cadena\n",
        "cadena1 = \"Me gusta programar\"\n",
        "vocales = \"aeiou\"\n",
        "\n",
        "contador = 0\n",
        "totalNoVocales = 0\n",
        "for i in cadena1:\n",
        "  if i in vocales:\n",
        "    contador += 1\n",
        "  else:\n",
        "    totalNoVocales += 1\n",
        "print(f\"El numero de vocales es {contador}\")\n",
        "print(totalNoVocales)"
      ],
      "metadata": {
        "colab": {
          "base_uri": "https://localhost:8080/"
        },
        "id": "QZ7xGj9TEJ07",
        "outputId": "3a4c31f2-b193-4fc6-bdfa-fbf9b555f7b4"
      },
      "execution_count": null,
      "outputs": [
        {
          "output_type": "stream",
          "name": "stdout",
          "text": [
            "El numero de vocales es 6\n",
            "12\n"
          ]
        }
      ]
    },
    {
      "cell_type": "code",
      "source": [
        "# Imprimir las tablas de 1 al 5\n",
        "# Ciclo anidado\n",
        "\n",
        "for i in [1,2,3,4,5,6,7,8,9,10]:\n",
        "  for j in [1,2,3,4,5,6,7,8,9,10]:\n",
        "    print(f\"{i} x {j} = {i * j}\")\n",
        "  print()\n"
      ],
      "metadata": {
        "colab": {
          "base_uri": "https://localhost:8080/"
        },
        "id": "pGWol6ETHE6t",
        "outputId": "285855db-8429-446e-d174-599d48e7168b"
      },
      "execution_count": null,
      "outputs": [
        {
          "output_type": "stream",
          "name": "stdout",
          "text": [
            "1 x 1 = 1\n",
            "1 x 2 = 2\n",
            "1 x 3 = 3\n",
            "1 x 4 = 4\n",
            "1 x 5 = 5\n",
            "1 x 6 = 6\n",
            "1 x 7 = 7\n",
            "1 x 8 = 8\n",
            "1 x 9 = 9\n",
            "1 x 10 = 10\n",
            "\n",
            "2 x 1 = 2\n",
            "2 x 2 = 4\n",
            "2 x 3 = 6\n",
            "2 x 4 = 8\n",
            "2 x 5 = 10\n",
            "2 x 6 = 12\n",
            "2 x 7 = 14\n",
            "2 x 8 = 16\n",
            "2 x 9 = 18\n",
            "2 x 10 = 20\n",
            "\n",
            "3 x 1 = 3\n",
            "3 x 2 = 6\n",
            "3 x 3 = 9\n",
            "3 x 4 = 12\n",
            "3 x 5 = 15\n",
            "3 x 6 = 18\n",
            "3 x 7 = 21\n",
            "3 x 8 = 24\n",
            "3 x 9 = 27\n",
            "3 x 10 = 30\n",
            "\n",
            "4 x 1 = 4\n",
            "4 x 2 = 8\n",
            "4 x 3 = 12\n",
            "4 x 4 = 16\n",
            "4 x 5 = 20\n",
            "4 x 6 = 24\n",
            "4 x 7 = 28\n",
            "4 x 8 = 32\n",
            "4 x 9 = 36\n",
            "4 x 10 = 40\n",
            "\n",
            "5 x 1 = 5\n",
            "5 x 2 = 10\n",
            "5 x 3 = 15\n",
            "5 x 4 = 20\n",
            "5 x 5 = 25\n",
            "5 x 6 = 30\n",
            "5 x 7 = 35\n",
            "5 x 8 = 40\n",
            "5 x 9 = 45\n",
            "5 x 10 = 50\n",
            "\n",
            "6 x 1 = 6\n",
            "6 x 2 = 12\n",
            "6 x 3 = 18\n",
            "6 x 4 = 24\n",
            "6 x 5 = 30\n",
            "6 x 6 = 36\n",
            "6 x 7 = 42\n",
            "6 x 8 = 48\n",
            "6 x 9 = 54\n",
            "6 x 10 = 60\n",
            "\n",
            "7 x 1 = 7\n",
            "7 x 2 = 14\n",
            "7 x 3 = 21\n",
            "7 x 4 = 28\n",
            "7 x 5 = 35\n",
            "7 x 6 = 42\n",
            "7 x 7 = 49\n",
            "7 x 8 = 56\n",
            "7 x 9 = 63\n",
            "7 x 10 = 70\n",
            "\n",
            "8 x 1 = 8\n",
            "8 x 2 = 16\n",
            "8 x 3 = 24\n",
            "8 x 4 = 32\n",
            "8 x 5 = 40\n",
            "8 x 6 = 48\n",
            "8 x 7 = 56\n",
            "8 x 8 = 64\n",
            "8 x 9 = 72\n",
            "8 x 10 = 80\n",
            "\n",
            "9 x 1 = 9\n",
            "9 x 2 = 18\n",
            "9 x 3 = 27\n",
            "9 x 4 = 36\n",
            "9 x 5 = 45\n",
            "9 x 6 = 54\n",
            "9 x 7 = 63\n",
            "9 x 8 = 72\n",
            "9 x 9 = 81\n",
            "9 x 10 = 90\n",
            "\n",
            "10 x 1 = 10\n",
            "10 x 2 = 20\n",
            "10 x 3 = 30\n",
            "10 x 4 = 40\n",
            "10 x 5 = 50\n",
            "10 x 6 = 60\n",
            "10 x 7 = 70\n",
            "10 x 8 = 80\n",
            "10 x 9 = 90\n",
            "10 x 10 = 100\n",
            "\n"
          ]
        }
      ]
    },
    {
      "cell_type": "code",
      "source": [
        "# Encontar el numero mas grande de una lista\n",
        "lista = [3,5,7,2,8,9]\n",
        "\n",
        "print(max(lista))\n",
        "\n",
        "mayor = lista[0]\n",
        "for i in lista:\n",
        "  if i > mayor:\n",
        "      mayor = i\n",
        "print(f\"El numero mayor es {mayor}\")"
      ],
      "metadata": {
        "colab": {
          "base_uri": "https://localhost:8080/"
        },
        "id": "p-HA-TzVJi3P",
        "outputId": "2fbe7d35-a6b9-4d33-ce47-46a5020f1283"
      },
      "execution_count": null,
      "outputs": [
        {
          "output_type": "stream",
          "name": "stdout",
          "text": [
            "9\n",
            "El numero mayor es 9\n"
          ]
        }
      ]
    },
    {
      "cell_type": "code",
      "source": [
        "# Generar un patron de asteriscos en forma de triangulos\n",
        "\n",
        "altura = 25\n",
        "\n",
        "for i in range (1, altura + 1):\n",
        "  #for j in range (i):\n",
        "   # print(\"*\", end=\"\")\n",
        "  #print()\n",
        "  print(\"*\" * i)"
      ],
      "metadata": {
        "colab": {
          "base_uri": "https://localhost:8080/"
        },
        "id": "va-BAxa9Mru9",
        "outputId": "f8f196b8-7445-4f4e-b30f-fae76fbe82ac"
      },
      "execution_count": null,
      "outputs": [
        {
          "output_type": "stream",
          "name": "stdout",
          "text": [
            "*\n",
            "**\n",
            "***\n",
            "****\n",
            "*****\n",
            "******\n",
            "*******\n",
            "********\n",
            "*********\n",
            "**********\n",
            "***********\n",
            "************\n",
            "*************\n",
            "**************\n",
            "***************\n",
            "****************\n",
            "*****************\n",
            "******************\n",
            "*******************\n",
            "********************\n",
            "*********************\n",
            "**********************\n",
            "***********************\n",
            "************************\n",
            "*************************\n"
          ]
        }
      ]
    },
    {
      "cell_type": "code",
      "source": [
        "lista2 = [ 10,8,9,2,3,6,7,8,9]\n",
        "\n",
        "# Media aritmetica\n",
        "suma0 = sum(lista2)\n",
        "print(suma0)"
      ],
      "metadata": {
        "colab": {
          "base_uri": "https://localhost:8080/"
        },
        "id": "_ikV0DNWvja4",
        "outputId": "7e5296a5-d753-4279-b8e5-8b08bec1d4da"
      },
      "execution_count": null,
      "outputs": [
        {
          "output_type": "stream",
          "name": "stdout",
          "text": [
            "62\n"
          ]
        }
      ]
    },
    {
      "cell_type": "code",
      "source": [
        "listaMedia = [10,8,9,2,3,6,7,8,9]\n",
        "\n",
        "# Media aritmetica\n",
        "# n el total de elementos\n",
        "# suma de los elementos\n",
        "\n",
        "n = 0\n",
        "total = 0\n",
        "for i in listaMedia:\n",
        "  n = n + 1\n",
        "  suma = suma + i\n",
        "\n",
        "media_a1 = suma / n\n",
        "print(media_a1)\n"
      ],
      "metadata": {
        "colab": {
          "base_uri": "https://localhost:8080/"
        },
        "id": "XYShEXJLywzW",
        "outputId": "cbc9322c-b0ea-4e57-c13c-bcebbf31271e"
      },
      "execution_count": null,
      "outputs": [
        {
          "output_type": "stream",
          "name": "stdout",
          "text": [
            "75.77777777777777\n"
          ]
        }
      ]
    },
    {
      "cell_type": "code",
      "source": [
        "lista1 = [10,8,9,2,3,6,7,8,9]\n",
        "\n",
        "# Media aritmetica\n",
        "# n el total de elementos\n",
        "# suma de los elementos\n",
        "n= len(lista1)\n",
        "suma1 = sum(lista1)\n",
        "media_a = suma1 / n\n",
        "print(media_a)"
      ],
      "metadata": {
        "colab": {
          "base_uri": "https://localhost:8080/"
        },
        "id": "QCZfYdHHy_VT",
        "outputId": "b0bab765-1ff6-4a84-e6ff-fe167e29a706"
      },
      "execution_count": null,
      "outputs": [
        {
          "output_type": "stream",
          "name": "stdout",
          "text": [
            "6.888888888888889\n"
          ]
        }
      ]
    },
    {
      "cell_type": "code",
      "source": [
        "Lista = []\n",
        "# Media aritmetica\n",
        "# n el total de elementos\n",
        "# suma de los elementos\n",
        "\n",
        "n = 0\n",
        "suma2 = 0\n",
        "for i in Lista:\n",
        "  n += 1\n",
        "  suma += i\n",
        "\n",
        "if suma2 > 0:\n",
        "  media_a2 = suma2 / n\n",
        "  print(media_a2)\n",
        "else:\n",
        "  media_a2 = None\n",
        "print(media_a2)\n",
        "\n",
        "# accion verdadera if enunciado else accion falsa\n",
        "media_a2 = suma2 / n if suma2 > 0 else None\n",
        "print(media_a2)\n"
      ],
      "metadata": {
        "colab": {
          "base_uri": "https://localhost:8080/"
        },
        "id": "58qh_BoxzgWg",
        "outputId": "b6f6eff8-205d-439c-8464-e68f70fd4b48"
      },
      "execution_count": null,
      "outputs": [
        {
          "output_type": "stream",
          "name": "stdout",
          "text": [
            "None\n",
            "None\n"
          ]
        }
      ]
    },
    {
      "cell_type": "code",
      "source": [
        "Lista = []\n",
        "# Media aritmetica\n",
        "# n el total de elementos\n",
        "# suma de los elementos\n",
        "\n",
        "n = 0\n",
        "suma2 = 0\n",
        "for i in Lista:\n",
        "  n += 1\n",
        "  suma2 += i\n",
        "\n",
        "# accion verdadera if enunciado else accion falsa\n",
        "media_a3 = suma2 / n if suma2 > 0 else None\n",
        "print(media_a3)"
      ],
      "metadata": {
        "colab": {
          "base_uri": "https://localhost:8080/"
        },
        "id": "EJuBz0Tx2Jau",
        "outputId": "0da3f4fd-90a2-4bcd-f46c-19d94bfcd375"
      },
      "execution_count": null,
      "outputs": [
        {
          "output_type": "stream",
          "name": "stdout",
          "text": [
            "None\n"
          ]
        }
      ]
    },
    {
      "cell_type": "code",
      "source": [
        "lista2 = [10,8,9,9,8,7,6,5,5,1]\n",
        "pesos = [0.1,0.3,0.4,0.5,0.5,0.5,0.5,0.4,0.4,0.9]\n",
        "\n",
        "# Media ponderada\n",
        "suma_vp = 0\n",
        "suma_p = 0\n",
        "for i in range(0,10):\n",
        "  suma_vp += lista2[i] * pesos[i]\n",
        "  suma_p += pesos[i]\n",
        "\n",
        "media_ponderada = suma_vp / suma_p\n",
        "print(media_ponderada)\n"
      ],
      "metadata": {
        "colab": {
          "base_uri": "https://localhost:8080/"
        },
        "id": "1mRbJrBY2cf_",
        "outputId": "2f571306-c285-40a5-a7fe-5e850acc01f3"
      },
      "execution_count": null,
      "outputs": [
        {
          "output_type": "stream",
          "name": "stdout",
          "text": [
            "5.977777777777778\n"
          ]
        }
      ]
    },
    {
      "cell_type": "code",
      "source": [
        "lista3 = [10,8,9,9,8,7,6,5,5,1]\n",
        "pesos1 = [0.1,0.3,0.4,0.5,0.5,0.5,0.5,0.4,0.4,0.9]\n",
        "\n",
        "# Media ponderada\n",
        "suma_vp_1 = 0\n",
        "suma_p_1 = 0\n",
        "\n",
        "zipeados = zip(lista3, pesos1)\n",
        "print(list(zipeados))"
      ],
      "metadata": {
        "colab": {
          "base_uri": "https://localhost:8080/"
        },
        "id": "2x--_OOP6dXz",
        "outputId": "dce2efe5-801d-420d-dd91-64d0cfb7c9e4"
      },
      "execution_count": null,
      "outputs": [
        {
          "output_type": "stream",
          "name": "stdout",
          "text": [
            "[(10, 0.1), (8, 0.3), (9, 0.4), (9, 0.5), (8, 0.5), (7, 0.5), (6, 0.5), (5, 0.4), (5, 0.4), (1, 0.9)]\n"
          ]
        }
      ]
    },
    {
      "cell_type": "code",
      "source": [
        "lista4 = [10,8,9,9,8,7,6,5,5,1]\n",
        "pesos2 = [0.1,0.3,0.4,0.5,0.5,0.5,0.5,0.4,0.4,0.9]\n",
        "\n",
        "# Media ponderada\n",
        "suma_vp_2 = 0\n",
        "suma_p_2 = 0\n",
        "\n",
        "for i,j in zip(lista4, pesos2):\n",
        "  suma_vp_2 += i * j\n",
        "  suma_p_2 += j\n",
        "\n",
        "media_ponderada_2 = suma_vp_2 / suma_p_2\n",
        "print(media_ponderada_2)"
      ],
      "metadata": {
        "colab": {
          "base_uri": "https://localhost:8080/"
        },
        "id": "1hKGABfH7FIi",
        "outputId": "b713ba04-4e4b-4d50-f7b3-8a63f24d3c3c"
      },
      "execution_count": null,
      "outputs": [
        {
          "output_type": "stream",
          "name": "stdout",
          "text": [
            "5.977777777777778\n"
          ]
        }
      ]
    }
  ]
}